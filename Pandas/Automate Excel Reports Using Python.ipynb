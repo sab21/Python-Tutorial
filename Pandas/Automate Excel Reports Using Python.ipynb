{
 "cells": [
  {
   "attachments": {
    "image.png": {
     "image/png": "[encoded data removed]"
    }
   },
   "cell_type": "markdown",
   "metadata": {},
   "source": [
    "# Automate Excel Reports Using Python\n",
    "\n",
    "![image.png](attachment:image.png)"
   ]
  },
  {
   "cell_type": "markdown",
   "metadata": {},
   "source": [
    "### Get Data From Oracle Using Python"
   ]
  },
  {
   "cell_type": "code",
   "execution_count": 1,
   "metadata": {},
   "outputs": [],
   "source": [
    "#import cx_Oracle\n",
    "\n",
    "#host = 'your-host-name'\n",
    "#port = 'your-port-number-as-integer-without-quotes'\n",
    "#sid = 'your-sid'\n",
    "#tns = cx_Oracle.makedsn(host, port, sid)\n",
    "#db = cx_Oracle.connect('your-username', 'your-password', tns)"
   ]
  },
  {
   "cell_type": "markdown",
   "metadata": {},
   "source": [
    "### Get Data From MS SQL Server Using Python"
   ]
  },
  {
   "cell_type": "code",
   "execution_count": 31,
   "metadata": {},
   "outputs": [],
   "source": [
    "import pandas as pd\n",
    "import pyodbc\n",
    "myconn=pyodbc.connect(\"DSN=Sabie\")\n",
    "df=pd.read_sql(\"select * from Scty_price\",myconn)\n",
    "df.shape"
   ]
  },
  {
   "cell_type": "markdown",
   "metadata": {},
   "source": [
    "#### Database file\n",
    "##### need to create DSN in system and install pyodbc\n",
    "Create DSN - Steps: \n",
    "- control pane>system& security>admistrative tool>Data source ODBC>user DSN>clic add>in pop up window give name to DSN(it will be used in code)and server name\n",
    "- select finish>next>change database to database which u want to extract ie \"Sabie\" >test data source connection> click ok >close all window"
   ]
  },
  {
   "cell_type": "code",
   "execution_count": 10,
   "metadata": {},
   "outputs": [
    {
     "data": {
      "text/html": [
       "<div>\n",
       "<style scoped>\n",
       "    .dataframe tbody tr th:only-of-type {\n",
       "        vertical-align: middle;\n",
       "    }\n",
       "\n",
       "    .dataframe tbody tr th {\n",
       "        vertical-align: top;\n",
       "    }\n",
       "\n",
       "    .dataframe thead th {\n",
       "        text-align: right;\n",
       "    }\n",
       "</style>\n",
       "<table border=\"1\" class=\"dataframe\">\n",
       "  <thead>\n",
       "    <tr style=\"text-align: right;\">\n",
       "      <th></th>\n",
       "      <th>Sec_id</th>\n",
       "      <th>Prc_date</th>\n",
       "      <th>Mkt_Price</th>\n",
       "      <th>Currency</th>\n",
       "      <th>Pricing_factor</th>\n",
       "    </tr>\n",
       "  </thead>\n",
       "  <tbody>\n",
       "    <tr>\n",
       "      <th>0</th>\n",
       "      <td>HCL205</td>\n",
       "      <td>2013-07-17</td>\n",
       "      <td>487.39</td>\n",
       "      <td>INR</td>\n",
       "      <td>1.0</td>\n",
       "    </tr>\n",
       "    <tr>\n",
       "      <th>1</th>\n",
       "      <td>HDFC305</td>\n",
       "      <td>2013-07-15</td>\n",
       "      <td>1187.15</td>\n",
       "      <td>INR</td>\n",
       "      <td>1.0</td>\n",
       "    </tr>\n",
       "    <tr>\n",
       "      <th>2</th>\n",
       "      <td>HUL109</td>\n",
       "      <td>2013-03-23</td>\n",
       "      <td>20.00</td>\n",
       "      <td>USD</td>\n",
       "      <td>100.0</td>\n",
       "    </tr>\n",
       "    <tr>\n",
       "      <th>3</th>\n",
       "      <td>ICIC201</td>\n",
       "      <td>2012-06-24</td>\n",
       "      <td>50.00</td>\n",
       "      <td>GBP</td>\n",
       "      <td>150.0</td>\n",
       "    </tr>\n",
       "    <tr>\n",
       "      <th>4</th>\n",
       "      <td>INC501</td>\n",
       "      <td>2011-01-10</td>\n",
       "      <td>15.00</td>\n",
       "      <td>SGD</td>\n",
       "      <td>50.0</td>\n",
       "    </tr>\n",
       "  </tbody>\n",
       "</table>\n",
       "</div>"
      ],
      "text/plain": [
       "    Sec_id    Prc_date  Mkt_Price Currency  Pricing_factor\n",
       "0   HCL205  2013-07-17     487.39      INR             1.0\n",
       "1  HDFC305  2013-07-15    1187.15      INR             1.0\n",
       "2   HUL109  2013-03-23      20.00      USD           100.0\n",
       "3  ICIC201  2012-06-24      50.00      GBP           150.0\n",
       "4   INC501  2011-01-10      15.00      SGD            50.0"
      ]
     },
     "execution_count": 10,
     "metadata": {},
     "output_type": "execute_result"
    }
   ],
   "source": [
    "df.head()"
   ]
  },
  {
   "cell_type": "code",
   "execution_count": 41,
   "metadata": {},
   "outputs": [
    {
     "data": {
      "text/plain": [
       "'\\nselect distinct pp.productid, name\\nfrom Production.Product as pp\\ninner join Sales.SalesOrderDetail as sod\\non pp.ProductID=sod.ProductID\\nwhere ProductSubcategoryID =1'"
      ]
     },
     "execution_count": 41,
     "metadata": {},
     "output_type": "execute_result"
    }
   ],
   "source": [
    "myconn=pyodbc.connect(\"DSN=Sabie_NEW\")\n",
    "\n",
    "from pathlib import Path\n",
    "\n",
    "query = Path('F:/1. Programs/SQL Queries/automatingReportTest.sql').read_text()\n",
    "query\n",
    "#df = pd.read_sql(query, myconn)"
   ]
  },
  {
   "cell_type": "code",
   "execution_count": 42,
   "metadata": {},
   "outputs": [
    {
     "data": {
      "text/html": [
       "<div>\n",
       "<style scoped>\n",
       "    .dataframe tbody tr th:only-of-type {\n",
       "        vertical-align: middle;\n",
       "    }\n",
       "\n",
       "    .dataframe tbody tr th {\n",
       "        vertical-align: top;\n",
       "    }\n",
       "\n",
       "    .dataframe thead th {\n",
       "        text-align: right;\n",
       "    }\n",
       "</style>\n",
       "<table border=\"1\" class=\"dataframe\">\n",
       "  <thead>\n",
       "    <tr style=\"text-align: right;\">\n",
       "      <th></th>\n",
       "      <th>productid</th>\n",
       "      <th>name</th>\n",
       "    </tr>\n",
       "  </thead>\n",
       "  <tbody>\n",
       "    <tr>\n",
       "      <th>0</th>\n",
       "      <td>771</td>\n",
       "      <td>Mountain-100 Silver, 38</td>\n",
       "    </tr>\n",
       "    <tr>\n",
       "      <th>1</th>\n",
       "      <td>772</td>\n",
       "      <td>Mountain-100 Silver, 42</td>\n",
       "    </tr>\n",
       "    <tr>\n",
       "      <th>2</th>\n",
       "      <td>773</td>\n",
       "      <td>Mountain-100 Silver, 44</td>\n",
       "    </tr>\n",
       "    <tr>\n",
       "      <th>3</th>\n",
       "      <td>774</td>\n",
       "      <td>Mountain-100 Silver, 48</td>\n",
       "    </tr>\n",
       "    <tr>\n",
       "      <th>4</th>\n",
       "      <td>775</td>\n",
       "      <td>Mountain-100 Black, 38</td>\n",
       "    </tr>\n",
       "  </tbody>\n",
       "</table>\n",
       "</div>"
      ],
      "text/plain": [
       "   productid                     name\n",
       "0        771  Mountain-100 Silver, 38\n",
       "1        772  Mountain-100 Silver, 42\n",
       "2        773  Mountain-100 Silver, 44\n",
       "3        774  Mountain-100 Silver, 48\n",
       "4        775   Mountain-100 Black, 38"
      ]
     },
     "execution_count": 42,
     "metadata": {},
     "output_type": "execute_result"
    }
   ],
   "source": [
    "df = pd.read_sql(query, myconn)\n",
    "df.head()"
   ]
  },
  {
   "cell_type": "code",
   "execution_count": 57,
   "metadata": {},
   "outputs": [
    {
     "data": {
      "text/html": [
       "<div>\n",
       "<style scoped>\n",
       "    .dataframe tbody tr th:only-of-type {\n",
       "        vertical-align: middle;\n",
       "    }\n",
       "\n",
       "    .dataframe tbody tr th {\n",
       "        vertical-align: top;\n",
       "    }\n",
       "\n",
       "    .dataframe thead th {\n",
       "        text-align: right;\n",
       "    }\n",
       "</style>\n",
       "<table border=\"1\" class=\"dataframe\">\n",
       "  <thead>\n",
       "    <tr style=\"text-align: right;\">\n",
       "      <th></th>\n",
       "      <th>productid</th>\n",
       "      <th>name</th>\n",
       "    </tr>\n",
       "  </thead>\n",
       "  <tbody>\n",
       "    <tr>\n",
       "      <th>0</th>\n",
       "      <td>771</td>\n",
       "      <td>Mountain-100 Silver, 38</td>\n",
       "    </tr>\n",
       "    <tr>\n",
       "      <th>1</th>\n",
       "      <td>772</td>\n",
       "      <td>Mountain-100 Silver, 42</td>\n",
       "    </tr>\n",
       "    <tr>\n",
       "      <th>2</th>\n",
       "      <td>773</td>\n",
       "      <td>Mountain-100 Silver, 44</td>\n",
       "    </tr>\n",
       "    <tr>\n",
       "      <th>3</th>\n",
       "      <td>774</td>\n",
       "      <td>Mountain-100 Silver, 48</td>\n",
       "    </tr>\n",
       "    <tr>\n",
       "      <th>4</th>\n",
       "      <td>775</td>\n",
       "      <td>Mountain-100 Black, 38</td>\n",
       "    </tr>\n",
       "  </tbody>\n",
       "</table>\n",
       "</div>"
      ],
      "text/plain": [
       "   productid                     name\n",
       "0        771  Mountain-100 Silver, 38\n",
       "1        772  Mountain-100 Silver, 42\n",
       "2        773  Mountain-100 Silver, 44\n",
       "3        774  Mountain-100 Silver, 48\n",
       "4        775   Mountain-100 Black, 38"
      ]
     },
     "execution_count": 57,
     "metadata": {},
     "output_type": "execute_result"
    }
   ],
   "source": [
    "#mydb=pyodbc.connect(\"Driver={SQL Server};server=server_name(localhost);database=dbname,uid=user_id,pwd=password\")\n",
    "mydb=pyodbc.connect(\"Driver={SQL Server};server=ACER;database=AdventureWorks2008\")\n",
    "df=pd.read_sql(query,mydb)\n",
    "df.head()"
   ]
  },
  {
   "cell_type": "code",
   "execution_count": 93,
   "metadata": {},
   "outputs": [],
   "source": [
    "file_name = 'F:/1. Programs/SQL Queries/latest_raw_data.csv'\n",
    "df.to_csv(file_name, sep = '|', index = False)"
   ]
  },
  {
   "cell_type": "markdown",
   "metadata": {},
   "source": [
    "### Get Latest File From Folder Using Python:"
   ]
  },
  {
   "cell_type": "code",
   "execution_count": 44,
   "metadata": {},
   "outputs": [
    {
     "data": {
      "text/plain": [
       "['F:/1. Programs/SQL Queries\\\\Assignments',\n",
       " 'F:/1. Programs/SQL Queries\\\\automatingReportTest.sql',\n",
       " 'F:/1. Programs/SQL Queries\\\\latest_raw_data 1.csv',\n",
       " 'F:/1. Programs/SQL Queries\\\\latest_raw_data 2.csv',\n",
       " 'F:/1. Programs/SQL Queries\\\\latest_raw_data.csv',\n",
       " 'F:/1. Programs/SQL Queries\\\\Practice',\n",
       " 'F:/1. Programs/SQL Queries\\\\Projects']"
      ]
     },
     "execution_count": 44,
     "metadata": {},
     "output_type": "execute_result"
    }
   ],
   "source": [
    "import glob\n",
    "import os\n",
    "\n",
    "list_of_files = glob.glob('F:/1. Programs/SQL Queries/*')\n",
    "list_of_files"
   ]
  },
  {
   "cell_type": "code",
   "execution_count": 82,
   "metadata": {},
   "outputs": [
    {
     "data": {
      "text/plain": [
       "'F:/1. Programs/SQL Queries\\\\latest_raw_data 2.csv'"
      ]
     },
     "execution_count": 82,
     "metadata": {},
     "output_type": "execute_result"
    }
   ],
   "source": [
    "latest_file = max(list_of_files, key = os.path.getctime)\n",
    "latest_file"
   ]
  },
  {
   "cell_type": "code",
   "execution_count": 83,
   "metadata": {},
   "outputs": [
    {
     "data": {
      "text/plain": [
       "['F:/1. Programs/SQL Queries', 'latest_raw_data 2.csv']"
      ]
     },
     "execution_count": 83,
     "metadata": {},
     "output_type": "execute_result"
    }
   ],
   "source": [
    "latest_file = latest_file.split('\\\\',1)\n",
    "latest_file"
   ]
  },
  {
   "cell_type": "code",
   "execution_count": 85,
   "metadata": {},
   "outputs": [
    {
     "data": {
      "text/plain": [
       "'latest_raw_data 2.csv'"
      ]
     },
     "execution_count": 85,
     "metadata": {},
     "output_type": "execute_result"
    }
   ],
   "source": [
    "latest_file = latest_file[1]\n",
    "latest_file"
   ]
  },
  {
   "cell_type": "markdown",
   "metadata": {},
   "source": [
    "### Create Copy Of Latest File Using Python:"
   ]
  },
  {
   "cell_type": "code",
   "execution_count": 92,
   "metadata": {},
   "outputs": [
    {
     "data": {
      "text/plain": [
       "'F:/1. Programs/SQL Queries/20200314_latest_periodic_report.xlsx1'"
      ]
     },
     "execution_count": 92,
     "metadata": {},
     "output_type": "execute_result"
    }
   ],
   "source": [
    "from shutil import copyfile\n",
    "import datetime\n",
    "\n",
    "today_date = datetime.datetime.today().strftime('%Y%m%d')\n",
    "src = 'F:/1. Programs/SQL Queries/' + latest_file\n",
    "new_file = today_date + '_latest_periodic_report.xlsx'\n",
    "dst = 'F:/1. Programs/SQL Queries/' + new_file\n",
    "copyfile(src, dst)"
   ]
  },
  {
   "cell_type": "markdown",
   "metadata": {},
   "source": [
    "### Refresh Excel File Using Python\n",
    "Let us assume you already had a report being sent often that is computed out of this raw CSV data file that we have generated earlier. Many people I have met think, at this step, they must open Excel, click the refresh button, and save the file. What if I tell you that even this step can be automated?\n",
    "\n",
    "Let us the take the new file we created out of the old file and refresh it using Python itself."
   ]
  },
  {
   "cell_type": "code",
   "execution_count": 95,
   "metadata": {},
   "outputs": [],
   "source": [
    "import win32com.client\n",
    "import time\n",
    "\n",
    "SourcePathName = 'F:/1. Programs/SQL Queries/' + new_file\n",
    "Application = win32com.client.DispatchEx('Excel.Application')\n",
    "Application.DisplayAlerts = False\n",
    "Application.Visible = 1\n",
    "Workbook = Application.Workbooks.open(SourcePathName)\n",
    "Workbook.RefreshAll()\n",
    "time.sleep(20)\n",
    "Workbook.Save()\n",
    "Workbook.Close()\n",
    "Application.Quit()"
   ]
  },
  {
   "cell_type": "markdown",
   "metadata": {},
   "source": [
    "### Send E-Mail Using Python\n",
    "The report is now ready. However, there is an additional step. We may want to notify the concerned people that the report is ready and is stored in XYZ shared location. In this case, the shared location is a Windows drive H:. This can vary depending on how the shared network at your end looks like. You can send emails using Python by writing the following block of code:"
   ]
  },
  {
   "cell_type": "code",
   "execution_count": 96,
   "metadata": {},
   "outputs": [],
   "source": [
    "import smtplib\n",
    "from email.mime.multipart import MIMEMultipart\n",
    "from email.mime.text import MIMEText\n"
   ]
  },
  {
   "cell_type": "code",
   "execution_count": 98,
   "metadata": {},
   "outputs": [],
   "source": [
    "\n",
    "fromaddr = 'sab21.sahu@gmail.com'\n",
    "toaddr = 'sab.sahu21@gmail.com'\n",
    "body = 'The ABC analysis report has been updated and saved in XYZ location'\n",
    "\n",
    "msg = MIMEMultipart()\n",
    "msg['From'] = fromaddr\n",
    "msg['To'] = toaddr\n",
    "msg['Subject'] = 'TEST MSG - Sending from Python'\n",
    "msg.attach(MIMEText(body, 'plain'))\n",
    "\n",
    "server = smtplib.SMTP('smtp-name', 'port-number-without-quotes')\n",
    "server.starttls()\n",
    "server.login(fromaddr, 'password')\n",
    "text = msg.as_string()\n",
    "server.sendmail(fromaddr, toaddr, text)\n",
    "server.quit()"
   ]
  },
  {
   "cell_type": "markdown",
   "metadata": {},
   "source": [
    "### Schedule Job Using Python\n",
    "Let us now assume that we need to send our Excel report every Monday at 12 PM. The block of code will look like:"
   ]
  },
  {
   "cell_type": "code",
   "execution_count": null,
   "metadata": {},
   "outputs": [],
   "source": [
    "import schedule\n",
    "import time\n",
    "\n",
    "def generate_weekly_report():\n",
    "    # The block of code from querying until sending email notification\n",
    "\n",
    "schedule.every().monday.at('12:00').do(generate_weekly_report)\n",
    "\n",
    "while True:\n",
    "    schedule.run_pending()\n",
    "    time.sleep(1)"
   ]
  },
  {
   "cell_type": "markdown",
   "metadata": {},
   "source": [
    "Save the entire code in a file and run it from a Python terminal. You have now learnt how to refresh an Excel report by automating it using Python."
   ]
  },
  {
   "cell_type": "code",
   "execution_count": null,
   "metadata": {},
   "outputs": [],
   "source": []
  }
 ],
 "metadata": {
  "kernelspec": {
   "display_name": "Python 3",
   "language": "python",
   "name": "python3"
  },
  "language_info": {
   "codemirror_mode": {
    "name": "ipython",
    "version": 3
   },
   "file_extension": ".py",
   "mimetype": "text/x-python",
   "name": "python",
   "nbconvert_exporter": "python",
   "pygments_lexer": "ipython3",
   "version": "3.7.3"
  }
 },
 "nbformat": 4,
 "nbformat_minor": 2
}
