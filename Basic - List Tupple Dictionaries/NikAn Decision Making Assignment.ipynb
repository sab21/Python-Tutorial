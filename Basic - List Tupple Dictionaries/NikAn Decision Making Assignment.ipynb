{
 "cells": [
  {
   "cell_type": "markdown",
   "metadata": {},
   "source": [
    "## Decision Making Assignment"
   ]
  },
  {
   "cell_type": "code",
   "execution_count": 1,
   "metadata": {},
   "outputs": [
    {
     "name": "stdout",
     "output_type": "stream",
     "text": [
      "9\n"
     ]
    }
   ],
   "source": [
    "# 1.\tFind the sum of all the numbers stored in a list.\n",
    "l1=[2,3,4]\n",
    "len(l1)\n",
    "sumof=0\n",
    "for i in range( 0,(len(l1))):\n",
    "    sumof=sumof+l1[i]\n",
    "\n",
    "print(sumof)"
   ]
  },
  {
   "cell_type": "code",
   "execution_count": 2,
   "metadata": {},
   "outputs": [
    {
     "name": "stdout",
     "output_type": "stream",
     "text": [
      "The Number is Positive\n"
     ]
    }
   ],
   "source": [
    "# 2.\tCheck if a number is positive, negative or zero.\n",
    "x=1\n",
    "if(x>0):print(\"The Number is Positive\")\n",
    "elif (x<0):print(\"The Number is Negative\")\n",
    "else: print(\"The number is ZERO\")"
   ]
  },
  {
   "cell_type": "code",
   "execution_count": 5,
   "metadata": {},
   "outputs": [],
   "source": [
    "# 3.\tCheck greatest number among three numbers.\n",
    "def biggest(a,b,c):\n",
    "    if(a>b):\n",
    "        if(a>c):print(a,\" is greatest than \",b,\" and \",c)\n",
    "        else:print(c,\" is greatest than \",a,\" and \",b)\n",
    "    elif (b>c):print(b,\" is greatest than \",a,\" and \",c)\n",
    "    else:print(c,\" is greatest than \",a,\" and \",b)\n",
    "        \n"
   ]
  },
  {
   "cell_type": "code",
   "execution_count": 6,
   "metadata": {},
   "outputs": [
    {
     "name": "stdout",
     "output_type": "stream",
     "text": [
      "20  is greatest than  10  and  15\n",
      "None\n",
      "20  is greatest than  10  and  15\n",
      "None\n",
      "20  is greatest than  20  and  10\n",
      "None\n"
     ]
    }
   ],
   "source": [
    "print(biggest(10,15,20))\n",
    "print(biggest(20,10,15))\n",
    "print(biggest(20,10,20))"
   ]
  },
  {
   "cell_type": "code",
   "execution_count": 7,
   "metadata": {},
   "outputs": [
    {
     "name": "stdout",
     "output_type": "stream",
     "text": [
      "Sum of 1st  10  natural numbers is:  55\n"
     ]
    }
   ],
   "source": [
    "# 4.\tFind the sum of first 10 natural numbers using while loop. (sum = 1 + 2 + 3 + ……. + 10)\n",
    "def sum_of_first_n_natural_number(num=10):\n",
    "    n=1;sum1=0\n",
    "    while(n<num+1):\n",
    "        sum1=sum1+n\n",
    "        n+=1\n",
    "    return(print(\"Sum of 1st \",num,\" natural numbers is: \",sum1));\n",
    "\n",
    "sum_of_first_n_natural_number()\n"
   ]
  },
  {
   "cell_type": "code",
   "execution_count": 8,
   "metadata": {},
   "outputs": [
    {
     "name": "stdout",
     "output_type": "stream",
     "text": [
      "Sum of 1st  10  natural numbers is:  55\n"
     ]
    }
   ],
   "source": [
    "def sum_of_first_n_natural_number_for_loop(num=10):\n",
    "    n=1;sum1=0\n",
    "    for i in range(0,num):\n",
    "        sum1=sum1+n\n",
    "        n+=1\n",
    "    return(print(\"Sum of 1st \",num,\" natural numbers is: \",sum1));\n",
    "\n",
    "sum_of_first_n_natural_number_for_loop()"
   ]
  },
  {
   "cell_type": "code",
   "execution_count": null,
   "metadata": {},
   "outputs": [],
   "source": []
  }
 ],
 "metadata": {
  "kernelspec": {
   "display_name": "Python 3",
   "language": "python",
   "name": "python3"
  },
  "language_info": {
   "codemirror_mode": {
    "name": "ipython",
    "version": 3
   },
   "file_extension": ".py",
   "mimetype": "text/x-python",
   "name": "python",
   "nbconvert_exporter": "python",
   "pygments_lexer": "ipython3",
   "version": "3.7.3"
  }
 },
 "nbformat": 4,
 "nbformat_minor": 2
}
