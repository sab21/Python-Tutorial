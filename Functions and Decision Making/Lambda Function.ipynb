{
 "cells": [
  {
   "cell_type": "markdown",
   "metadata": {},
   "source": [
    "## Lambda\n",
    "\n",
    "Anonymous function "
   ]
  },
  {
   "cell_type": "code",
   "execution_count": 1,
   "metadata": {},
   "outputs": [
    {
     "name": "stdout",
     "output_type": "stream",
     "text": [
      "The Sum of  4  and  -6  is  -2\n"
     ]
    }
   ],
   "source": [
    "# Write a User defined Function:\n",
    "# 1. To accept two numbers X and Y and find the sum of it.\n",
    "def sum_of_two_nos(x,y):\n",
    "    add=x+y\n",
    "    return print(\"The Sum of \",x,\" and \",y,\" is \",add);\n",
    "sum_of_two_nos(4,-6)"
   ]
  },
  {
   "cell_type": "markdown",
   "metadata": {},
   "source": [
    "Here **sum_of_two_nos** is function name"
   ]
  },
  {
   "cell_type": "code",
   "execution_count": 2,
   "metadata": {},
   "outputs": [
    {
     "data": {
      "text/plain": [
       "-2"
      ]
     },
     "execution_count": 2,
     "metadata": {},
     "output_type": "execute_result"
    }
   ],
   "source": [
    "addition= lambda x,y: x+y\n",
    "addition(4,-6)"
   ]
  },
  {
   "cell_type": "markdown",
   "metadata": {},
   "source": [
    "Here **addition** is variable not function"
   ]
  },
  {
   "cell_type": "code",
   "execution_count": 3,
   "metadata": {},
   "outputs": [
    {
     "data": {
      "text/plain": [
       "<function __main__.<lambda>(x, y)>"
      ]
     },
     "execution_count": 3,
     "metadata": {},
     "output_type": "execute_result"
    }
   ],
   "source": [
    "addition"
   ]
  },
  {
   "cell_type": "code",
   "execution_count": 4,
   "metadata": {},
   "outputs": [
    {
     "data": {
      "text/plain": [
       "<function __main__.sum_of_two_nos(x, y)>"
      ]
     },
     "execution_count": 4,
     "metadata": {},
     "output_type": "execute_result"
    }
   ],
   "source": [
    "sum_of_two_nos"
   ]
  },
  {
   "cell_type": "markdown",
   "metadata": {},
   "source": [
    "##### So any function with single line expression can be converted to lambda function"
   ]
  },
  {
   "cell_type": "code",
   "execution_count": 5,
   "metadata": {},
   "outputs": [
    {
     "data": {
      "text/plain": [
       "39"
      ]
     },
     "execution_count": 5,
     "metadata": {},
     "output_type": "execute_result"
    }
   ],
   "source": [
    "# 2. To solve the equation f(x) = ax2 + bx + c. By passing x value and a = 2, b = 4 and c = 9.\n",
    "\n",
    "def solve_quadratic_fn(x,a=2,b=4,c=9):\n",
    "    f=a*x*x+b*x+c\n",
    "    return (f);\n",
    "solve_quadratic_fn(3)"
   ]
  },
  {
   "cell_type": "code",
   "execution_count": 6,
   "metadata": {},
   "outputs": [
    {
     "data": {
      "text/plain": [
       "39"
      ]
     },
     "execution_count": 6,
     "metadata": {},
     "output_type": "execute_result"
    }
   ],
   "source": [
    "quad_lam=lambda x,a=2,b=4,c=9:a*x*x+b*x+c\n",
    "quad_lam(3)"
   ]
  },
  {
   "cell_type": "code",
   "execution_count": 7,
   "metadata": {},
   "outputs": [
    {
     "data": {
      "text/plain": [
       "20.0"
      ]
     },
     "execution_count": 7,
     "metadata": {},
     "output_type": "execute_result"
    }
   ],
   "source": [
    "# 3. To pass three arguments Principal, Rate of Interest & Time and calculate the Simple Interest.\n",
    "interest=lambda p,r,t:p*r*t/100\n",
    "interest(100,10,2)"
   ]
  },
  {
   "cell_type": "code",
   "execution_count": 10,
   "metadata": {},
   "outputs": [
    {
     "name": "stdout",
     "output_type": "stream",
     "text": [
      "Principal 100 Rate 10 Time 2 Interest 20.0\n"
     ]
    }
   ],
   "source": [
    "p=100;r=10;t=2\n",
    "print(\"Principal {} Rate {} Time {} Interest {}\".format(p,r,t,interest(p,r,t)))"
   ]
  },
  {
   "cell_type": "markdown",
   "metadata": {},
   "source": [
    "### Using if else in Lambda function"
   ]
  },
  {
   "cell_type": "code",
   "execution_count": 11,
   "metadata": {},
   "outputs": [],
   "source": [
    "# Lambda function to check if a given vaue is from 10 to 20.\n",
    "test=lambda x : True if (x > 10 and x < 20) else False"
   ]
  },
  {
   "cell_type": "code",
   "execution_count": 12,
   "metadata": {},
   "outputs": [
    {
     "name": "stdout",
     "output_type": "stream",
     "text": [
      "True\n",
      "False\n",
      "False\n"
     ]
    }
   ],
   "source": [
    "# Check if given numbers are in range using lambda function\n",
    "print(test(12))\n",
    "print(test(3))\n",
    "print(test(24))"
   ]
  },
  {
   "cell_type": "code",
   "execution_count": 13,
   "metadata": {},
   "outputs": [
    {
     "name": "stdout",
     "output_type": "stream",
     "text": [
      "True\n",
      "False\n",
      "False\n"
     ]
    }
   ],
   "source": [
    "# Lambda function to check if a given vaue is from 10 to 20.\n",
    "check = lambda x : x > 10 and x < 20\n",
    " \n",
    "# Check if given numbers are in range using lambda function\n",
    "print(check(12))\n",
    "print(check(3))\n",
    "print(check(24))"
   ]
  },
  {
   "cell_type": "markdown",
   "metadata": {},
   "source": [
    "### Using filter() function with a conditional lambda function (with if else)\n",
    "- filter() function accepts a callback() function and a list of elements. \n",
    "- It iterates over all elements in list and calls the given callback() function on each element. \n",
    "- If callback() returns True then it appends that element in the new list. \n",
    "- In the end it returns a new list of filtered elements only."
   ]
  },
  {
   "cell_type": "code",
   "execution_count": 14,
   "metadata": {},
   "outputs": [
    {
     "name": "stdout",
     "output_type": "stream",
     "text": [
      "Filtered List :  [12, 11, 19, 15]\n"
     ]
    }
   ],
   "source": [
    "# List of numbers\n",
    "listofNum = [1,3,33,12,34,56,11,19,21,34,15]\n",
    "\n",
    "# Filter list of numbers by keeping numbers from 10 to 20 in the list only\n",
    "listofNum = list(filter(lambda x : x > 10 and x < 20, listofNum))\n",
    "print('Filtered List : ', listofNum)"
   ]
  },
  {
   "cell_type": "code",
   "execution_count": 15,
   "metadata": {},
   "outputs": [
    {
     "name": "stdout",
     "output_type": "stream",
     "text": [
      "Filtered List :  [True, True, True, True]\n"
     ]
    }
   ],
   "source": [
    "listofNum = list(map(lambda x : x > 10 and x < 20, listofNum))\n",
    "print('Filtered List : ', listofNum)"
   ]
  },
  {
   "cell_type": "markdown",
   "metadata": {},
   "source": [
    "### Using if, elif & else in a lambda function"
   ]
  },
  {
   "cell_type": "code",
   "execution_count": 20,
   "metadata": {},
   "outputs": [],
   "source": [
    "# Lambda function with if, elif & else i.e.\n",
    "# If the given value is less than 10 then Multiplies it by 2\n",
    "# else if it's between 10 to 20 the multiplies it by 3\n",
    "# else returns the unmodified same value\n",
    "converter = lambda x : x*2 if x < 10 else (x*3 if x < 20 else x)"
   ]
  },
  {
   "cell_type": "code",
   "execution_count": 21,
   "metadata": {},
   "outputs": [
    {
     "name": "stdout",
     "output_type": "stream",
     "text": [
      "convert 5 to :  10\n",
      "convert 13 to :  39\n",
      "convert 23 to :  23\n"
     ]
    }
   ],
   "source": [
    "print('convert 5 to : ', converter(5))\n",
    "print('convert 13 to : ', converter(13))\n",
    "print('convert 23 to : ', converter(23))"
   ]
  },
  {
   "cell_type": "code",
   "execution_count": 22,
   "metadata": {},
   "outputs": [
    {
     "name": "stdout",
     "output_type": "stream",
     "text": [
      "*** Using if else in Lambda function ***\n",
      "True\n",
      "False\n",
      "False\n",
      "*** Creating conditional lambda function without if else ***\n",
      "True\n",
      "False\n",
      "False\n",
      "*** Using filter() function with a conditional lambda function (with if else) ***\n",
      "Original List :  [1, 3, 33, 12, 34, 56, 11, 19, 21, 34, 15]\n",
      "Filtered List :  [12, 11, 19, 15]\n",
      "*** Using if, elif & else in Lambda function ***\n",
      "convert 5 to :  10\n",
      "convert 13 to :  39\n",
      "convert 23 to :  23\n"
     ]
    }
   ],
   "source": [
    "def main():\n",
    "    print('*** Using if else in Lambda function ***')\n",
    "    # Lambda function to check if a given vaue is from 10 to 20.\n",
    "    test = lambda x : True if (x > 10 and x < 20) else False\n",
    " \n",
    "    # Check if given numbers are in range using lambda function\n",
    "    print(test(12))\n",
    "    print(test(3))\n",
    "    print(test(24))\n",
    " \n",
    "    print('*** Creating conditional lambda function without if else ***')\n",
    " \n",
    "    # Lambda function to check if a given vaue is from 10 to 20.\n",
    "    check = lambda x : x > 10 and x < 20\n",
    " \n",
    "    # Check if given numbers are in range using lambda function\n",
    "    print(check(12))\n",
    "    print(check(3))\n",
    "    print(check(24))\n",
    " \n",
    "    print('*** Using filter() function with a conditional lambda function (with if else) ***')\n",
    " \n",
    "    # List of numbers\n",
    "    listofNum = [1,3,33,12,34,56,11,19,21,34,15]\n",
    "    print('Original List : ', listofNum)\n",
    " \n",
    "    # Filter list of numbers by keeping numbers from 10 to 20 in the list only\n",
    "    listofNum = list(filter(lambda x : x > 10 and x < 20, listofNum))\n",
    "    print('Filtered List : ', listofNum)\n",
    " \n",
    "    print('*** Using if, elif & else in Lambda function ***')\n",
    " \n",
    "    # Lambda function with if, elif & else i.e.\n",
    "    # If the given value is less than 10 then Multiplies it by 2\n",
    "    # else if it's between 10 to 20 the multiplies it by 3\n",
    "    # else returns the unmodified same value\n",
    "    converter = lambda x : x*2 if x < 10 else (x*3 if x < 20 else x)\n",
    " \n",
    "    print('convert 5 to : ', converter(5))\n",
    "    print('convert 13 to : ', converter(13))\n",
    "    print('convert 23 to : ', converter(23))\n",
    " \n",
    "if __name__ == '__main__':\n",
    "    main()"
   ]
  },
  {
   "cell_type": "code",
   "execution_count": null,
   "metadata": {},
   "outputs": [],
   "source": []
  }
 ],
 "metadata": {
  "kernelspec": {
   "display_name": "Python 3",
   "language": "python",
   "name": "python3"
  },
  "language_info": {
   "codemirror_mode": {
    "name": "ipython",
    "version": 3
   },
   "file_extension": ".py",
   "mimetype": "text/x-python",
   "name": "python",
   "nbconvert_exporter": "python",
   "pygments_lexer": "ipython3",
   "version": "3.7.3"
  }
 },
 "nbformat": 4,
 "nbformat_minor": 2
}
