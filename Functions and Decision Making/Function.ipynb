{
 "cells": [
  {
   "cell_type": "markdown",
   "metadata": {},
   "source": [
    "## Function\n",
    "\n",
    "##### Keyword arguement and Positional Arguement"
   ]
  },
  {
   "cell_type": "code",
   "execution_count": 2,
   "metadata": {},
   "outputs": [],
   "source": [
    "def odd_even(num):\n",
    "    if num%2==0:\n",
    "        print(\"EVEN\")\n",
    "    else:\n",
    "        print(\"ODD\")"
   ]
  },
  {
   "cell_type": "code",
   "execution_count": 3,
   "metadata": {},
   "outputs": [
    {
     "name": "stdout",
     "output_type": "stream",
     "text": [
      "ODD\n"
     ]
    }
   ],
   "source": [
    "odd_even(23)"
   ]
  },
  {
   "cell_type": "code",
   "execution_count": 4,
   "metadata": {},
   "outputs": [],
   "source": [
    "def hello(name, age = 35):\n",
    "    print(\"My name is {} and age is {}\".format(name,age))"
   ]
  },
  {
   "cell_type": "code",
   "execution_count": 5,
   "metadata": {},
   "outputs": [
    {
     "name": "stdout",
     "output_type": "stream",
     "text": [
      "My name is Sabie and age is 35\n"
     ]
    }
   ],
   "source": [
    "hello(\"Sabie\")"
   ]
  },
  {
   "cell_type": "markdown",
   "metadata": {},
   "source": [
    "Here **Name is Positional** Arguement and **Age is Keyword** Arguement"
   ]
  },
  {
   "cell_type": "code",
   "execution_count": 6,
   "metadata": {},
   "outputs": [
    {
     "ename": "TypeError",
     "evalue": "hello() missing 1 required positional argument: 'name'",
     "output_type": "error",
     "traceback": [
      "\u001b[1;31m---------------------------------------------------------------------------\u001b[0m",
      "\u001b[1;31mTypeError\u001b[0m                                 Traceback (most recent call last)",
      "\u001b[1;32m<ipython-input-6-a75d7781aaeb>\u001b[0m in \u001b[0;36m<module>\u001b[1;34m\u001b[0m\n\u001b[1;32m----> 1\u001b[1;33m \u001b[0mhello\u001b[0m\u001b[1;33m(\u001b[0m\u001b[1;33m)\u001b[0m\u001b[1;33m\u001b[0m\u001b[1;33m\u001b[0m\u001b[0m\n\u001b[0m",
      "\u001b[1;31mTypeError\u001b[0m: hello() missing 1 required positional argument: 'name'"
     ]
    }
   ],
   "source": [
    "hello()"
   ]
  },
  {
   "cell_type": "code",
   "execution_count": 7,
   "metadata": {},
   "outputs": [],
   "source": [
    "def hi(*args,**kwargs):\n",
    "    print(args)\n",
    "    print(kwargs)"
   ]
  },
  {
   "cell_type": "code",
   "execution_count": 8,
   "metadata": {},
   "outputs": [
    {
     "name": "stdout",
     "output_type": "stream",
     "text": [
      "('Sabie', 'Sahu')\n",
      "{'Age': 29, 'dob': 1985}\n"
     ]
    }
   ],
   "source": [
    "hi(\"Sabie\",\"Sahu\",Age = 29, dob = 1985)"
   ]
  },
  {
   "cell_type": "markdown",
   "metadata": {},
   "source": [
    "#### Note: Args are tupples whereas Kwargs are Dictionary"
   ]
  },
  {
   "cell_type": "code",
   "execution_count": 10,
   "metadata": {},
   "outputs": [],
   "source": [
    "lst=['Sabie', 'Sahu']\n",
    "dict_arg={'Age': 29, 'dob': 1985}"
   ]
  },
  {
   "cell_type": "code",
   "execution_count": 11,
   "metadata": {},
   "outputs": [
    {
     "name": "stdout",
     "output_type": "stream",
     "text": [
      "(['Sabie', 'Sahu'], {'Age': 29, 'dob': 1985})\n",
      "{}\n"
     ]
    }
   ],
   "source": [
    "hi(lst,dict_arg)"
   ]
  },
  {
   "cell_type": "markdown",
   "metadata": {},
   "source": [
    "Here both arguement are taken as positional arguement"
   ]
  },
  {
   "cell_type": "code",
   "execution_count": 12,
   "metadata": {},
   "outputs": [
    {
     "name": "stdout",
     "output_type": "stream",
     "text": [
      "('Sabie', 'Sahu')\n",
      "{'Age': 29, 'dob': 1985}\n"
     ]
    }
   ],
   "source": [
    "#So u have to specify the type of args\n",
    "hi(*lst,**dict_arg)"
   ]
  },
  {
   "cell_type": "code",
   "execution_count": 13,
   "metadata": {},
   "outputs": [
    {
     "name": "stdout",
     "output_type": "stream",
     "text": [
      "(['Sabie', 'Sahu'],)\n",
      "{'Age': 29, 'dob': 1985}\n"
     ]
    }
   ],
   "source": [
    "hi(lst,**dict_arg)"
   ]
  },
  {
   "cell_type": "markdown",
   "metadata": {},
   "source": [
    "### Assignments"
   ]
  },
  {
   "cell_type": "code",
   "execution_count": 14,
   "metadata": {},
   "outputs": [
    {
     "name": "stdout",
     "output_type": "stream",
     "text": [
      "The Sum of  4  and  -6  is  -2\n"
     ]
    }
   ],
   "source": [
    "# Write a User defined Function:\n",
    "# 1. To accept two numbers X and Y and find the sum of it.\n",
    "def sum_of_two_nos(x,y):\n",
    "    add=x+y\n",
    "    return print(\"The Sum of \",x,\" and \",y,\" is \",add);\n",
    "sum_of_two_nos(4,-6)"
   ]
  },
  {
   "cell_type": "code",
   "execution_count": 15,
   "metadata": {},
   "outputs": [
    {
     "data": {
      "text/plain": [
       "39"
      ]
     },
     "execution_count": 15,
     "metadata": {},
     "output_type": "execute_result"
    }
   ],
   "source": [
    "# 2. To solve the equation f(x) = ax2 + bx + c. By passing x value and a = 2, b = 4 and c = 9.\n",
    "\n",
    "def solve_quadratic_fn(x,a=2,b=4,c=9):\n",
    "    f=a*x*x+b*x+c\n",
    "    return (f);\n",
    "solve_quadratic_fn(3)"
   ]
  },
  {
   "cell_type": "code",
   "execution_count": 16,
   "metadata": {},
   "outputs": [
    {
     "data": {
      "text/plain": [
       "20.0"
      ]
     },
     "execution_count": 16,
     "metadata": {},
     "output_type": "execute_result"
    }
   ],
   "source": [
    "# 3. To pass three arguments Principal, Rate of Interest & Time and calculate the Simple Interest.\n",
    "def simple_interest(p,r,t):\n",
    "    i=p*r*t/100\n",
    "    return i;\n",
    "simple_interest(100,10,2)"
   ]
  },
  {
   "cell_type": "code",
   "execution_count": 17,
   "metadata": {},
   "outputs": [],
   "source": [
    "# 4. To calculate the square root of a number.\n",
    "def square_root(num):\n",
    "    r=1\n",
    "    if (num<0): print(\"Cant find square root of negative number\")\n",
    "    elif(num==0):return(0)\n",
    "    else:\n",
    "        while(r*r<=num):\n",
    "            r=r+.00001\n",
    "        return (round(r,3));\n",
    "    return();"
   ]
  },
  {
   "cell_type": "code",
   "execution_count": 18,
   "metadata": {},
   "outputs": [
    {
     "name": "stdout",
     "output_type": "stream",
     "text": [
      "Enter an integer:3\n"
     ]
    },
    {
     "data": {
      "text/plain": [
       "1.732"
      ]
     },
     "execution_count": 18,
     "metadata": {},
     "output_type": "execute_result"
    }
   ],
   "source": [
    "square_root(int(input(\"Enter an integer:\")))"
   ]
  },
  {
   "cell_type": "code",
   "execution_count": 19,
   "metadata": {},
   "outputs": [
    {
     "name": "stdout",
     "output_type": "stream",
     "text": [
      "Enter an integer:10\n"
     ]
    },
    {
     "data": {
      "text/plain": [
       "3.162"
      ]
     },
     "execution_count": 19,
     "metadata": {},
     "output_type": "execute_result"
    }
   ],
   "source": [
    "square_root(int(input(\"Enter an integer:\")))"
   ]
  },
  {
   "cell_type": "code",
   "execution_count": 20,
   "metadata": {},
   "outputs": [
    {
     "data": {
      "text/plain": [
       "103.84"
      ]
     },
     "execution_count": 20,
     "metadata": {},
     "output_type": "execute_result"
    }
   ],
   "source": [
    "# 5. To find final amount that needs to be paid by customer based on given quantity and price. \n",
    "#       Add GST 18% and subtract discount of 12% to get final amount. \n",
    "def payable_amount(price,GST=18,discount=12):\n",
    "    total=price-price*discount/100\n",
    "    total=total+total*GST/100\n",
    "    return (total);\n",
    "payable_amount(100)"
   ]
  },
  {
   "cell_type": "code",
   "execution_count": 21,
   "metadata": {},
   "outputs": [
    {
     "data": {
      "text/plain": [
       "9"
      ]
     },
     "execution_count": 21,
     "metadata": {},
     "output_type": "execute_result"
    }
   ],
   "source": [
    "#6. To returns the square of the sum of two numbers X and Y i.e. (X+Y)2 Hint: (X+Y) 2 = (X2 + 2*X*Y + Y2) \n",
    "def q6(x,y):\n",
    "    result=(x+y)*(x+y)\n",
    "    return result;\n",
    "q6(1,2)\n"
   ]
  },
  {
   "cell_type": "code",
   "execution_count": 22,
   "metadata": {},
   "outputs": [
    {
     "data": {
      "text/plain": [
       "9"
      ]
     },
     "execution_count": 22,
     "metadata": {},
     "output_type": "execute_result"
    }
   ],
   "source": [
    "#7. To returns the square of the sum of two numbers X and Y i.e. (X+Y)2, where default value of the second argument(Y) is 2.\n",
    "def q7(x,y=2):\n",
    "    result=(x+y)*(x+y)\n",
    "    return result;\n",
    "q7(1)"
   ]
  },
  {
   "cell_type": "code",
   "execution_count": 23,
   "metadata": {},
   "outputs": [
    {
     "data": {
      "text/plain": [
       "'SasasbyasasasadssslL'"
      ]
     },
     "execution_count": 23,
     "metadata": {},
     "output_type": "execute_result"
    }
   ],
   "source": [
    "# 8. To convert first and last character of given name into lowercase and rest should be in uppercase.\n",
    "def capitalize_1st_last(char):\n",
    "    char=char[0].upper()+char[1:-1].lower()+char[-1].upper()\n",
    "    return char;\n",
    "\n",
    "capitalize_1st_last(\"sasasbyasasasadSSSll\")"
   ]
  },
  {
   "cell_type": "code",
   "execution_count": 24,
   "metadata": {},
   "outputs": [
    {
     "data": {
      "text/plain": [
       "5.0"
      ]
     },
     "execution_count": 24,
     "metadata": {},
     "output_type": "execute_result"
    }
   ],
   "source": [
    "# 9. To get h in a right angled triangle, where default value of p and b are 3 and 4 respectively.\n",
    "def hypotenuse(p=3,b=4):\n",
    "    import math as m\n",
    "    h=m.sqrt(p*p+b*b)\n",
    "    return h;\n",
    "hypotenuse()\n"
   ]
  },
  {
   "cell_type": "code",
   "execution_count": 25,
   "metadata": {},
   "outputs": [
    {
     "data": {
      "text/plain": [
       "'rowing'"
      ]
     },
     "execution_count": 25,
     "metadata": {},
     "output_type": "execute_result"
    }
   ],
   "source": [
    "# 10. To pass an argument containing a word and returning the word by adding ‘ing’ at the end.\n",
    "def q10(word,suffix=\"ing\"):\n",
    "    return (word+suffix);\n",
    "\n",
    "q10(\"row\")\n"
   ]
  },
  {
   "cell_type": "code",
   "execution_count": null,
   "metadata": {},
   "outputs": [],
   "source": []
  }
 ],
 "metadata": {
  "kernelspec": {
   "display_name": "Python 3",
   "language": "python",
   "name": "python3"
  },
  "language_info": {
   "codemirror_mode": {
    "name": "ipython",
    "version": 3
   },
   "file_extension": ".py",
   "mimetype": "text/x-python",
   "name": "python",
   "nbconvert_exporter": "python",
   "pygments_lexer": "ipython3",
   "version": "3.7.3"
  }
 },
 "nbformat": 4,
 "nbformat_minor": 2
}
