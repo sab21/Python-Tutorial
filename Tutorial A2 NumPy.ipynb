{
 "cells": [
  {
   "cell_type": "markdown",
   "metadata": {},
   "source": [
    "# NumPy\n",
    "##### NumPy is a Python C extension library for array-oriented computing\n",
    "    •Efficient\n",
    "    •In-memory\n",
    "    •Contiguous (or Strided)\n",
    "    •Homogeneous (but types can be algebraic)\n",
    "    \n",
    "    NumPy is suited to many applications\n",
    "    •Image processing\n",
    "    •Signal processing\n",
    "    •Linear algebra\n",
    "    •A plethora of others\n",
    "\n",
    "What is an array??\n",
    " - An array is a data structure that stores values of same data type. In Python, this is the main difference between arrays and lists. While python lists can contain values corresponding to different data types, arrays in python can only contain values corresponding to same data type"
   ]
  },
  {
   "cell_type": "code",
   "execution_count": null,
   "metadata": {},
   "outputs": [],
   "source": [
    "# -*- coding: utf-8 -*-\n",
    "\"\"\"\n",
    "Created on Thu Sep 19 00:23:26 2019\n",
    "\n",
    "@author: Sabie\n",
    "\"\"\"\n",
    "#Assigning Values\n",
    "x=y=z=10\n",
    "a,b,c=10,20,30\n",
    "print(a,b,z)\n",
    "\n",
    "\n",
    "#Keyword\n",
    "#Identifiers\n",
    "#Literals\n",
    "#Operator\n",
    "\n",
    "\n",
    "#Literals:\n",
    "    #String Literals\n",
    "        multiline='''Str1\n",
    "        strr2,\n",
    "        .....'''\n",
    "    #Numeric:\n",
    "    #    Int long float complex\n",
    "    #Boolean:\n",
    "    #Special - \n",
    "        None\n",
    "#Operator:\n",
    "        #Arithmatic Opr\n",
    "        #Assignment Opr\n",
    "            Var=10\n",
    "            Var+=10\n",
    "            Var*=10\n",
    "        #Comparison Opr\n",
    "        #Logical Opr\n",
    "            a=10<10 and 2>-1\n",
    "            a\n",
    "        #Bitwise Opr\n",
    "            7&5\n",
    "            7|5\n",
    "            4&5\n",
    "            4|5\n",
    "            ~7\n",
    "            10>>2\n",
    "            10<<2\n",
    "        #Identiti Opr\n",
    "            is\n",
    "            is not\n",
    "            Var is 200\n",
    "            Var is not 200\n",
    "        #Membership Opr\n",
    "            in\n",
    "            not in\n",
    "            pets=['dog','cat','wolf']\n",
    "            'lion' in pets\n",
    "            'wolf' not in pets\n",
    "            'me' in 'appointment'\n",
    "\n",
    "\n",
    "# =============================================================================\n",
    "# Datatype:\n",
    "#     Immutable:\n",
    "#         Strings:\n",
    "            'hi' \"Sabie\" \n",
    "            '''kk\n",
    "            kk\n",
    "            kk'''\n",
    "            str1='Hello World'\n",
    "            print(str1[0:5])\n",
    "            \n",
    "            str1.find('or')#7\n",
    "            \n",
    "            str1.replace('or','OR')#'Hello WORld'\n",
    "            \n",
    "            str1.split(\" \")#split functon\n",
    "            str1.split('o')\n",
    "            \n",
    "            str1.count(\"o\")#count 'o' in hello world\n",
    "            str1.count('l')\n",
    "            \n",
    "            max(str1)#ASCI max value obtained\n",
    "            min(str1)\n",
    "            \n",
    "#         Numbers:\n",
    "            a=10.3\n",
    "            int(a)\n",
    "            complex(a) \n",
    "            type(a)\n",
    "            type(str1)\n",
    "            \n",
    "#         Tuples:()\n",
    "            my_tupple = ('a','b','c','d')\n",
    "            my_tup=('e','f')\n",
    "            #concatenation\n",
    "            my_tupple+=my_tup\n",
    "            my_tupple\n",
    "            \n",
    "            #repeatation\n",
    "            my_tupple*2\n",
    "            \n",
    "            #indexing\n",
    "            my_tupple[1]\n",
    "            \n",
    "            #slicing\n",
    "            my_tupple[1:5]\n",
    "#     Mutable:\n",
    "#         Lists:[]\n",
    "            myList=[]#empty list\n",
    "            myList=['a',123,10.23,'John']\n",
    "            list2=['Python',2]\n",
    "            #concat\n",
    "            myList+=list2\n",
    "            print(myList)\n",
    "            #repeatation\n",
    "            myList*2\n",
    "            #slicing\n",
    "            myList[-2]\n",
    "            #append\n",
    "            myList.append(\"10\")\n",
    "            myList.append(list2)\n",
    "            myList.append(10)\n",
    "            #extend\n",
    "            myList.extend(list2)\n",
    "            myList.extend(\"10\")\n",
    "            myList.extend(10)#TypeError: 'int' object is not iterable\n",
    "            #insert\n",
    "            myList.insert(1,3000)\n",
    "            myList.insert(3,list2)\n",
    "            #remove  - by value\n",
    "            myList.remove(3000)\n",
    "            myList.remove('Python')#not in list\n",
    "            myList[2].remove('Python')\n",
    "            #pop - delete by index\n",
    "            myList.pop(2)\n",
    "            \n",
    "            type(myList)\n",
    "            \n",
    "#         Dictionaries:{} Keys and values\n",
    "            myDict={}#empty Dict\n",
    "            myDict={1:[10,20,30],'fruits':[\"apple\",\"banana\",\"mango\"],2:'Human'}\n",
    "            #key can be integer or string\n",
    "            #paring\n",
    "            myDict=dict([(1,[10,20,30]),('fruits',[\"apple\",\"banana\",\"mango\"]),(2,'Human')])\n",
    "            #accesing dict by keys\n",
    "            myDict[1]\n",
    "            myDict['fruits']\n",
    "            myDict[:]#no slicing\n",
    "            myDict[1][1:]\n",
    "            myDict['fruits'][-1]\n",
    "            #length \n",
    "            len(myDict)#3 elements\n",
    "            #keys\n",
    "            myDict.keys()\n",
    "            #Values\n",
    "            myDict.values()\n",
    "            #__contains__\n",
    "            myDict.__contains__('fruits')\n",
    "            #deleting all elements - Clear all\n",
    "            myDict.clear()\n",
    "            #deleting last keys\n",
    "            myDict.popitem()\n",
    "            #deleying by index\n",
    "            myDict.pop(1)\n",
    "            \n",
    "            \n",
    "#         Sets:{}\n",
    "            \n",
    "# =============================================================================\n",
    "\n",
    "# =============================================================================\n",
    "# Flow Control\n",
    "# =============================================================================\n",
    "if\n",
    "for\n",
    "while\n",
    "break\n",
    "continue\n",
    "pass\n",
    "\n",
    "# =============================================================================\n",
    "\n",
    "# =============================================================================\n",
    "# Functions\n",
    "# Lambda\n",
    "# =============================================================================\n",
    "\n",
    "# =============================================================================\n",
    "# File Handling:\n",
    "# =============================================================================\n",
    "# Open\n",
    "f=open(\"C:/Users/acer/Desktop/Python Classnotes/Python Part 2/Topics.txt\")\n",
    "f.read\n",
    "# Read\n",
    "# Write/Create\n",
    "# Delete\n",
    "# \n",
    "# =============================================================================\n",
    "\n",
    "\n",
    "# ============================================================================= \n",
    "# NUMPY\n",
    "# =============================================================================\n",
    "#Python List with some added features\n",
    "import numpy as np\n",
    "\n",
    "#1-D Array\n",
    "a=np.array([1,2,3])#list\n",
    "b=np.array((1,2,3))#tupple\n",
    "print(a,b)\n",
    "#now the tupple become list and it can be editable\n",
    "b[1]=4\n",
    "b#see\n",
    "\n",
    "#2-D Array\n",
    "a=np.array([[1,2,3],[4,5,6]])\n",
    "a\n",
    "\n",
    "#3-D array\n",
    "a=np.array([[[1,2,3],[4,5,6]],[7,8,9]])\n",
    "a\n",
    "a=np.ndarray([2,2])\n",
    "\n",
    "a[0]\n",
    "a[0][1]\n",
    "\n",
    "#numpy array initialisation\n",
    "a=np.zeros((3,4))#np.zeros((row,column))\n",
    "a\n",
    "#ndarray\n",
    "a=np.ndarray((3,5),dtype= int)#arg = shape\n",
    "a\n",
    "\n",
    "#a-range\n",
    "a=np.arange(10,25,2)#np.arange([start,end(excluding),steps])\n",
    "a\n",
    "\n",
    "#linspace\n",
    "a=np.linspace(5,6,10)#start,endpoint,no_of_interval_between_start_and _end\n",
    "a\n",
    "\n",
    "#fill with same valyes\n",
    "a=np.full((3,4),6)#shape,value\n",
    "a\n",
    "\n",
    "#random \n",
    "a=np.random.random((3,4));a#ARG = SHAPE, 0-1\n",
    "\n",
    "#0-1\n",
    "np.random.rand(2)#1-D\n",
    "np.random.rand(2,2)#2-D\n",
    "np.random.rand(2,2,2)#3-D\n",
    "np.random.rand(2,2,2,2)#4-D\n",
    "#any random\n",
    "np.random.randn(6)\n",
    "np.random.randn(2,2)\n",
    "\n",
    "np.random.random_integers(10,20,100)#100random int between 10and 20\n",
    "\n",
    "a=np.random.randint(-10,10,100)#100random int between -10 and 10\n",
    "\n",
    "np.random.random_sample(2)#2 random numbers\n",
    "\n",
    "#shape function\n",
    "a=np.array([[1,2,3],[4,5,6]])\n",
    "a.shape#(2, 3)\n",
    "#reshaping\n",
    "a.shape=(3,2)\n",
    "a.shape#(3, 2)\n",
    "a#array([[1, 2],\n",
    "  #     [3, 4],\n",
    "   #    [5, 6]])\n",
    "a.reshape((2,3))\n",
    "#array([[1, 2, 3],\n",
    "#       [4, 5, 6]])\n",
    "a\n",
    "#resizing same as reshape\n",
    "a.resize((2,3))\n",
    "a.shape[0]#row\n",
    "a.shape[1]#column\n",
    "\n",
    "a.size#6 no of items in a\n",
    "a=np.arange(24)\n",
    "a.size#24\n",
    "a.shape(24,)\n",
    "a.reshape(2,3,4)#3D,3rows,4columns; Not changes only shows\n",
    "a.resize(6,2,2);a#3D,2Rows,2Col; changed the shape\n",
    "a.shape\n",
    "a.ndim#3D\n",
    "a.dtype#int32\n",
    "a=np.linspace(5,6,10)\n",
    "a.dtype#float64\n",
    "\n",
    "#NUMPY is used for number math and linear algebra; only int and float can be used\n",
    "#Aggregate Function in numpy\n",
    "a=np.array([10,20])\n",
    "b=np.array([4,4])\n",
    "a.sum()\n",
    "np.sum(a)\n",
    "np.sum((a,b))#38\n",
    "np.subtract(a,b)#array([ 6, 16])\n",
    "np.sum((a,b),axis=1)#array([30,  8]) - row wise\n",
    "np.sum((a,b),axis=0)#array([14, 24]) - col wise\n",
    "np.divide(a,b)#array([2.5, 5. ])\n",
    "np.multiply(a,b)#array([40, 80])\n",
    "np.exp(a)\n",
    "np.exp2(a)\n",
    "np.sqrt(a)\n",
    "np.sin(a)\n",
    "np.log(a)\n",
    "np.lcm(10,20)\n",
    "np.min(a)\n",
    "np.min((a,b))\n",
    "np.mean((a,b))#9.5\n",
    "np.median((a,b))\n",
    "np.corrcoef(a)\n",
    "np.corrcoef((a,b))\n",
    "\n",
    "#Equal comparison\n",
    "np.equal(a,b)# array([False, False])\n",
    "np.array_equal(a,b)#False\n",
    "\n",
    "#Numpy BroadCasting\n",
    "a=np.array([[1,3,5],[2,4,6]])\n",
    "b=np.array([10,10,10])\n",
    "np.sum((a,b))\n",
    "#[[11, 13, 15],\n",
    " #[12, 14, 16]]\n",
    "c=np.array([[10,10,10],[20,20,20]])\n",
    "np.sum((a,c),axis=0)\n",
    "np.sum((a,c),axis=1)\n",
    "\n",
    "#indexing\n",
    "a=np.array([[1,2,3],[4,5,6],[7,8,9]])\n",
    "a[0]\n",
    "a[1]\n",
    "a[:]\n",
    "a[1,1]#5\n",
    "a[1][1]#5\n",
    "a[-2][-2]#5\n",
    "a[:,1:]#col2 onwards\n",
    "a[2:,1]\n",
    "a[:2,2:]\n",
    "\n",
    "#array manipulation\n",
    "b=np.array([[10,10,10],[20,20,20],[30,30,30]])\n",
    "np.concatenate((a,b),axis=1)\n",
    "#array([[ 1,  2,  3, 10, 10, 10],\n",
    " #      [ 4,  5,  6, 20, 20, 20],\n",
    "  #     [ 7,  8,  9, 30, 30, 30]])\n",
    "np.concatenate((a,b),axis=0)\n",
    "#array([[ 1,  2,  3],\n",
    " #      [ 4,  5,  6],\n",
    "  #     [ 7,  8,  9],\n",
    "   #    [10, 10, 10],\n",
    "    #   [20, 20, 20],\n",
    "     #  [30, 30, 30]])\n",
    "np.vstack((a,b))\n",
    "np.hstack((a,b))\n",
    "np.column_stack((a,b))\n",
    "\n",
    "\n",
    "    #More convenient\n",
    "\n",
    "# =============================================================================\n",
    "\n",
    "# =============================================================================\n",
    "# Pandas\n",
    "# =============================================================================\n",
    "    import pandas as pd\n",
    "# Series\n",
    "    a=[1,2,3]\n",
    "    b=[[1,2,3],[5,6]]\n",
    "    s=pd.Series(a)\n",
    "    s=pd.Series(b)\n",
    "  #indexing\n",
    "      s=pd.Series(a,index=['a','b','c'])\n",
    "      print(s)\n",
    "      s[1:3]\n",
    "      s['a':'c']\n",
    "      s.a\n",
    "    \n",
    "# DataFrame\n",
    "# =============================================================================\n",
    "\n",
    "\n"
   ]
  },
  {
   "cell_type": "code",
   "execution_count": 1,
   "metadata": {},
   "outputs": [],
   "source": [
    "#Loading NumPy library\n",
    "import numpy as np"
   ]
  },
  {
   "cell_type": "markdown",
   "metadata": {},
   "source": [
    "## Python Lists vs. Numpy Arrays - What is the difference?\n",
    "##### The answer is performance. \n",
    "Numpy data structures perform better in:\n",
    "\n",
    "    Size - Numpy data structures take up less space\n",
    "    Performance - they have a need for speed and are faster than lists\n",
    "    Functionality - SciPy and NumPy have optimized functions such as linear algebra\n",
    "\n",
    "Lets check it"
   ]
  },
  {
   "cell_type": "code",
   "execution_count": 3,
   "metadata": {},
   "outputs": [
    {
     "name": "stdout",
     "output_type": "stream",
     "text": [
      "List Size:  48000\n",
      "Numpy:  4000\n"
     ]
    }
   ],
   "source": [
    "#Advantages of Numpy:\n",
    "#Consume less memory\n",
    "import sys\n",
    "#list\n",
    "l=range(1000)\n",
    "len(l)\n",
    "print('List Size: ',sys.getsizeof(l)*len(l))#48000\n",
    "#28 byte for one object, 14 for object, 2 for pointer\n",
    "        \n",
    "#numpy\n",
    "a=np.arange(1000)\n",
    "print('Numpy: ',a.size*a.itemsize)#4000\n",
    "#4 byte pers item"
   ]
  },
  {
   "cell_type": "code",
   "execution_count": 6,
   "metadata": {},
   "outputs": [],
   "source": [
    "#Faster\n",
    "import time\n",
    "def usinglist(r=100000):\n",
    "            t=time.time()\n",
    "            x=range(r)\n",
    "            y=range(r)\n",
    "            z=[x[i]+y[i] for i in range(len(x))]\n",
    "            return time.time()-t\n",
    "        \n",
    "def usingnumpy(r=100000):\n",
    "            t=time.time()\n",
    "            a=np.arange(r)\n",
    "            b=np.arange(r)\n",
    "            z=a+b#convinience\n",
    "            return time.time()-t"
   ]
  },
  {
   "cell_type": "code",
   "execution_count": 10,
   "metadata": {},
   "outputs": [
    {
     "name": "stdout",
     "output_type": "stream",
     "text": [
      "0.08797693252563477\n",
      "0.0\n"
     ]
    },
    {
     "data": {
      "text/plain": [
       "28.02954165671998"
      ]
     },
     "execution_count": 10,
     "metadata": {},
     "output_type": "execute_result"
    }
   ],
   "source": [
    "print(usinglist())\n",
    "print(usingnumpy())\n",
    "usinglist()/usingnumpy()"
   ]
  },
  {
   "cell_type": "code",
   "execution_count": 12,
   "metadata": {},
   "outputs": [
    {
     "name": "stdout",
     "output_type": "stream",
     "text": [
      "96.05659627914429\n",
      "2.989419460296631\n"
     ]
    },
    {
     "data": {
      "text/plain": [
       "74.12546823622756"
      ]
     },
     "execution_count": 12,
     "metadata": {},
     "output_type": "execute_result"
    }
   ],
   "source": [
    "print(usinglist(100000000))\n",
    "print(usingnumpy(100000000))\n",
    "usinglist(10000000)/usingnumpy(10000000)"
   ]
  },
  {
   "cell_type": "markdown",
   "metadata": {},
   "source": [
    "#### Numpy Array"
   ]
  },
  {
   "cell_type": "code",
   "execution_count": 13,
   "metadata": {},
   "outputs": [
    {
     "name": "stdout",
     "output_type": "stream",
     "text": [
      "[1 2 3] [1 2 3]\n"
     ]
    }
   ],
   "source": [
    "#1-D Array\n",
    "a=np.array([1,2,3])#list\n",
    "b=np.array((1,2,3))#tupple\n",
    "print(a,b)"
   ]
  },
  {
   "cell_type": "code",
   "execution_count": 14,
   "metadata": {},
   "outputs": [
    {
     "data": {
      "text/plain": [
       "numpy.ndarray"
      ]
     },
     "execution_count": 14,
     "metadata": {},
     "output_type": "execute_result"
    }
   ],
   "source": [
    "type(a)"
   ]
  },
  {
   "cell_type": "code",
   "execution_count": 17,
   "metadata": {},
   "outputs": [
    {
     "data": {
      "text/plain": [
       "array([1, 2, 5])"
      ]
     },
     "execution_count": 17,
     "metadata": {},
     "output_type": "execute_result"
    }
   ],
   "source": [
    "b[2]=5;b#tupple is now mutable"
   ]
  },
  {
   "cell_type": "code",
   "execution_count": 27,
   "metadata": {},
   "outputs": [
    {
     "data": {
      "text/plain": [
       "array([[1, 2, 3],\n",
       "       [4, 5, 6]])"
      ]
     },
     "execution_count": 27,
     "metadata": {},
     "output_type": "execute_result"
    }
   ],
   "source": [
    "#2-D Array\n",
    "a=np.array([[1,2,3],[4,5,6]])\n",
    "a"
   ]
  },
  {
   "cell_type": "code",
   "execution_count": 29,
   "metadata": {},
   "outputs": [
    {
     "data": {
      "text/plain": [
       "array([list([[1, 2, 3], [4, 5, 6]]), list([7, 8, 9])], dtype=object)"
      ]
     },
     "execution_count": 29,
     "metadata": {},
     "output_type": "execute_result"
    }
   ],
   "source": [
    "#3-D array\n",
    "a=np.array([[[1,2,3],[4,5,6]],[7,8,9]])\n",
    "a"
   ]
  },
  {
   "cell_type": "code",
   "execution_count": 21,
   "metadata": {},
   "outputs": [
    {
     "data": {
      "text/plain": [
       "array([[1, 2, 3, 4, 5],\n",
       "       [2, 3, 4, 5, 6],\n",
       "       [9, 7, 6, 8, 9]])"
      ]
     },
     "execution_count": 21,
     "metadata": {},
     "output_type": "execute_result"
    }
   ],
   "source": [
    "## Multinested array\n",
    "my_lst1=[1,2,3,4,5]\n",
    "my_lst2=[2,3,4,5,6]\n",
    "my_lst3=[9,7,6,8,9]\n",
    "\n",
    "arr=np.array([my_lst1,my_lst2,my_lst3]);arr"
   ]
  },
  {
   "cell_type": "markdown",
   "metadata": {},
   "source": [
    "#### Check dimension of array"
   ]
  },
  {
   "cell_type": "code",
   "execution_count": 22,
   "metadata": {},
   "outputs": [
    {
     "data": {
      "text/plain": [
       "(3, 5)"
      ]
     },
     "execution_count": 22,
     "metadata": {},
     "output_type": "execute_result"
    }
   ],
   "source": [
    "## check the shape of the array\n",
    "arr.shape"
   ]
  },
  {
   "cell_type": "code",
   "execution_count": 24,
   "metadata": {},
   "outputs": [
    {
     "data": {
      "text/plain": [
       "2"
      ]
     },
     "execution_count": 24,
     "metadata": {},
     "output_type": "execute_result"
    }
   ],
   "source": [
    "# Get Dimension\n",
    "arr.ndim"
   ]
  },
  {
   "cell_type": "code",
   "execution_count": 30,
   "metadata": {},
   "outputs": [
    {
     "data": {
      "text/plain": [
       "1"
      ]
     },
     "execution_count": 30,
     "metadata": {},
     "output_type": "execute_result"
    }
   ],
   "source": [
    "a.ndim"
   ]
  },
  {
   "cell_type": "code",
   "execution_count": 32,
   "metadata": {},
   "outputs": [
    {
     "data": {
      "text/plain": [
       "dtype('int32')"
      ]
     },
     "execution_count": 32,
     "metadata": {},
     "output_type": "execute_result"
    }
   ],
   "source": [
    "# Get Type\n",
    "arr.dtype"
   ]
  },
  {
   "cell_type": "code",
   "execution_count": 34,
   "metadata": {},
   "outputs": [
    {
     "data": {
      "text/plain": [
       "4"
      ]
     },
     "execution_count": 34,
     "metadata": {},
     "output_type": "execute_result"
    }
   ],
   "source": [
    "# Get Size\n",
    "arr.itemsize"
   ]
  },
  {
   "cell_type": "code",
   "execution_count": 36,
   "metadata": {},
   "outputs": [
    {
     "data": {
      "text/plain": [
       "60"
      ]
     },
     "execution_count": 36,
     "metadata": {},
     "output_type": "execute_result"
    }
   ],
   "source": [
    "# Get total size\n",
    "arr.nbytes"
   ]
  },
  {
   "cell_type": "code",
   "execution_count": 38,
   "metadata": {},
   "outputs": [
    {
     "data": {
      "text/plain": [
       "15"
      ]
     },
     "execution_count": 38,
     "metadata": {},
     "output_type": "execute_result"
    }
   ],
   "source": [
    "# Get number of elements\n",
    "arr.size"
   ]
  },
  {
   "cell_type": "markdown",
   "metadata": {},
   "source": [
    "#### Accessing/Changing specific elements, rows, columns, etc"
   ]
  },
  {
   "cell_type": "code",
   "execution_count": 43,
   "metadata": {},
   "outputs": [
    {
     "name": "stdout",
     "output_type": "stream",
     "text": [
      "[[ 1  2  3  4  5  6  7]\n",
      " [ 8  9 10 11 12 13 14]\n",
      " [15 16 17 18 19 20 21]]\n"
     ]
    }
   ],
   "source": [
    "a = np.array([[1,2,3,4,5,6,7],[8,9,10,11,12,13,14],\n",
    "              [15,16,17,18,19,20,21]])\n",
    "print(a)"
   ]
  },
  {
   "cell_type": "code",
   "execution_count": 44,
   "metadata": {},
   "outputs": [
    {
     "data": {
      "text/plain": [
       "13"
      ]
     },
     "execution_count": 44,
     "metadata": {},
     "output_type": "execute_result"
    }
   ],
   "source": [
    "# Get a specific element [r, c]\n",
    "a[1,5]"
   ]
  },
  {
   "cell_type": "code",
   "execution_count": 45,
   "metadata": {},
   "outputs": [
    {
     "data": {
      "text/plain": [
       "array([ 2,  9, 16])"
      ]
     },
     "execution_count": 45,
     "metadata": {},
     "output_type": "execute_result"
    }
   ],
   "source": [
    "# Get a specific column\n",
    "a[:,1]"
   ]
  },
  {
   "cell_type": "code",
   "execution_count": 46,
   "metadata": {},
   "outputs": [
    {
     "data": {
      "text/plain": [
       "array([1, 2, 3, 4, 5, 6, 7])"
      ]
     },
     "execution_count": 46,
     "metadata": {},
     "output_type": "execute_result"
    }
   ],
   "source": [
    "# Get a specific row \n",
    "a[0,:]"
   ]
  },
  {
   "cell_type": "code",
   "execution_count": 48,
   "metadata": {},
   "outputs": [
    {
     "data": {
      "text/plain": [
       "array([[ 1,  2,  3,  4,  5,  6,  7],\n",
       "       [15, 16, 17, 18, 19, 20, 21]])"
      ]
     },
     "execution_count": 48,
     "metadata": {},
     "output_type": "execute_result"
    }
   ],
   "source": [
    "#Indexing first and last row\n",
    "a[[0,-1],:]"
   ]
  },
  {
   "cell_type": "code",
   "execution_count": 51,
   "metadata": {},
   "outputs": [
    {
     "data": {
      "text/plain": [
       "array([ 8, 10, 12])"
      ]
     },
     "execution_count": 51,
     "metadata": {},
     "output_type": "execute_result"
    }
   ],
   "source": [
    "# Getting a little more fancy [startindex:endindex:stepsize]\n",
    "a[1,0:-1:2]"
   ]
  },
  {
   "cell_type": "code",
   "execution_count": 54,
   "metadata": {},
   "outputs": [
    {
     "name": "stdout",
     "output_type": "stream",
     "text": [
      "[[  1   2   3   4   5   6   7]\n",
      " [  8   9  10  11  12 200  14]\n",
      " [ 15  16  17  18  19  20  21]]\n"
     ]
    }
   ],
   "source": [
    "a[1,5] = 200\n",
    "print(a)"
   ]
  },
  {
   "cell_type": "code",
   "execution_count": 56,
   "metadata": {},
   "outputs": [
    {
     "name": "stdout",
     "output_type": "stream",
     "text": [
      "[[  1   2  30   4   5   6   7]\n",
      " [  8   9  31  11  12 200  14]\n",
      " [ 15  16  32  18  19  20  21]]\n"
     ]
    }
   ],
   "source": [
    "a[:,2] = [30,31,32]\n",
    "print(a)"
   ]
  },
  {
   "cell_type": "code",
   "execution_count": 57,
   "metadata": {},
   "outputs": [
    {
     "name": "stdout",
     "output_type": "stream",
     "text": [
      "[[[1 2]\n",
      "  [3 4]]\n",
      "\n",
      " [[5 6]\n",
      "  [7 8]]]\n"
     ]
    }
   ],
   "source": [
    "#3D \n",
    "b = np.array([[[1,2],[3,4]],[[5,6],[7,8]]])\n",
    "print(b)"
   ]
  },
  {
   "cell_type": "code",
   "execution_count": 58,
   "metadata": {},
   "outputs": [
    {
     "data": {
      "text/plain": [
       "4"
      ]
     },
     "execution_count": 58,
     "metadata": {},
     "output_type": "execute_result"
    }
   ],
   "source": [
    "# Get specific element (work outside in)\n",
    "b[0,1,1]"
   ]
  },
  {
   "cell_type": "code",
   "execution_count": 61,
   "metadata": {},
   "outputs": [
    {
     "data": {
      "text/plain": [
       "array([[3, 4],\n",
       "       [7, 8]])"
      ]
     },
     "execution_count": 61,
     "metadata": {},
     "output_type": "execute_result"
    }
   ],
   "source": [
    "b[:,1,:]"
   ]
  },
  {
   "cell_type": "code",
   "execution_count": 63,
   "metadata": {},
   "outputs": [
    {
     "data": {
      "text/plain": [
       "array([[[1, 2],\n",
       "        [9, 9]],\n",
       "\n",
       "       [[5, 6],\n",
       "        [8, 8]]])"
      ]
     },
     "execution_count": 63,
     "metadata": {},
     "output_type": "execute_result"
    }
   ],
   "source": [
    "# replace \n",
    "b[:,1,:] = [[9,9,],[8,8]];b"
   ]
  },
  {
   "cell_type": "markdown",
   "metadata": {},
   "source": [
    "#### Initializing Different Types of Arrays"
   ]
  },
  {
   "cell_type": "code",
   "execution_count": 64,
   "metadata": {},
   "outputs": [
    {
     "data": {
      "text/plain": [
       "array([[0., 0., 0.],\n",
       "       [0., 0., 0.]])"
      ]
     },
     "execution_count": 64,
     "metadata": {},
     "output_type": "execute_result"
    }
   ],
   "source": [
    "# All 0s matrix\n",
    "np.zeros((2,3))"
   ]
  },
  {
   "cell_type": "code",
   "execution_count": 65,
   "metadata": {},
   "outputs": [
    {
     "data": {
      "text/plain": [
       "array([[[1, 1],\n",
       "        [1, 1]],\n",
       "\n",
       "       [[1, 1],\n",
       "        [1, 1]],\n",
       "\n",
       "       [[1, 1],\n",
       "        [1, 1]],\n",
       "\n",
       "       [[1, 1],\n",
       "        [1, 1]]])"
      ]
     },
     "execution_count": 65,
     "metadata": {},
     "output_type": "execute_result"
    }
   ],
   "source": [
    "# All 1s matrix\n",
    "np.ones((4,2,2), dtype='int32')"
   ]
  },
  {
   "cell_type": "code",
   "execution_count": 66,
   "metadata": {},
   "outputs": [
    {
     "data": {
      "text/plain": [
       "array([[99, 99],\n",
       "       [99, 99]])"
      ]
     },
     "execution_count": 66,
     "metadata": {},
     "output_type": "execute_result"
    }
   ],
   "source": [
    "# Any other number\n",
    "np.full((2,2), 99)"
   ]
  },
  {
   "cell_type": "code",
   "execution_count": 67,
   "metadata": {},
   "outputs": [
    {
     "data": {
      "text/plain": [
       "array([[4, 4, 4, 4, 4, 4, 4],\n",
       "       [4, 4, 4, 4, 4, 4, 4],\n",
       "       [4, 4, 4, 4, 4, 4, 4]])"
      ]
     },
     "execution_count": 67,
     "metadata": {},
     "output_type": "execute_result"
    }
   ],
   "source": [
    "# Any other number (full_like)\n",
    "np.full_like(a, 4)"
   ]
  },
  {
   "cell_type": "code",
   "execution_count": 71,
   "metadata": {},
   "outputs": [
    {
     "data": {
      "text/plain": [
       "array([[0.39534509, 0.71457267],\n",
       "       [0.30826282, 0.3546528 ],\n",
       "       [0.4500771 , 0.94125002],\n",
       "       [0.57281491, 0.44478529]])"
      ]
     },
     "execution_count": 71,
     "metadata": {},
     "output_type": "execute_result"
    }
   ],
   "source": [
    "# Random decimal numbers\n",
    "np.random.rand(4,2)"
   ]
  },
  {
   "cell_type": "code",
   "execution_count": 69,
   "metadata": {},
   "outputs": [
    {
     "data": {
      "text/plain": [
       "array([[ 5,  2,  5],\n",
       "       [-3,  0,  6],\n",
       "       [-2,  7,  1]])"
      ]
     },
     "execution_count": 69,
     "metadata": {},
     "output_type": "execute_result"
    }
   ],
   "source": [
    "# Random Integer values\n",
    "np.random.randint(-4,8, size=(3,3))"
   ]
  },
  {
   "cell_type": "code",
   "execution_count": 72,
   "metadata": {},
   "outputs": [
    {
     "data": {
      "text/plain": [
       "array([[1., 0., 0., 0., 0.],\n",
       "       [0., 1., 0., 0., 0.],\n",
       "       [0., 0., 1., 0., 0.],\n",
       "       [0., 0., 0., 1., 0.],\n",
       "       [0., 0., 0., 0., 1.]])"
      ]
     },
     "execution_count": 72,
     "metadata": {},
     "output_type": "execute_result"
    }
   ],
   "source": [
    "# The identity matrix\n",
    "np.identity(5)"
   ]
  },
  {
   "cell_type": "code",
   "execution_count": 75,
   "metadata": {},
   "outputs": [
    {
     "name": "stdout",
     "output_type": "stream",
     "text": [
      "[[1 2 3]\n",
      " [1 2 3]\n",
      " [1 2 3]]\n"
     ]
    }
   ],
   "source": [
    "# Repeat an array\n",
    "arr = np.array([[1,2,3]])\n",
    "r1 = np.repeat(arr,3, axis=0)\n",
    "print(r1)"
   ]
  },
  {
   "cell_type": "code",
   "execution_count": 76,
   "metadata": {},
   "outputs": [
    {
     "name": "stdout",
     "output_type": "stream",
     "text": [
      "[[1. 1. 1. 1. 1.]\n",
      " [1. 1. 1. 1. 1.]\n",
      " [1. 1. 1. 1. 1.]\n",
      " [1. 1. 1. 1. 1.]\n",
      " [1. 1. 1. 1. 1.]]\n",
      "[[0. 0. 0.]\n",
      " [0. 9. 0.]\n",
      " [0. 0. 0.]]\n",
      "[[1. 1. 1. 1. 1.]\n",
      " [1. 0. 0. 0. 1.]\n",
      " [1. 0. 9. 0. 1.]\n",
      " [1. 0. 0. 0. 1.]\n",
      " [1. 1. 1. 1. 1.]]\n"
     ]
    }
   ],
   "source": [
    "output = np.ones((5,5))\n",
    "print(output)\n",
    "\n",
    "z = np.zeros((3,3))\n",
    "z[1,1] = 9\n",
    "print(z)\n",
    "\n",
    "output[1:-1,1:-1] = z\n",
    "print(output)"
   ]
  },
  {
   "cell_type": "code",
   "execution_count": 80,
   "metadata": {},
   "outputs": [
    {
     "data": {
      "text/plain": [
       "array([[[1867404600,        512],\n",
       "        [1915222968,        512]],\n",
       "\n",
       "       [[ 247335406, 1365570291],\n",
       "        [1974641136,        512]]])"
      ]
     },
     "execution_count": 80,
     "metadata": {},
     "output_type": "execute_result"
    }
   ],
   "source": [
    "#ndarray\n",
    "a=np.ndarray((2,2,2),dtype= int)#arg = shape\n",
    "a"
   ]
  },
  {
   "cell_type": "code",
   "execution_count": 81,
   "metadata": {},
   "outputs": [
    {
     "data": {
      "text/plain": [
       "array([10, 12, 14, 16, 18, 20, 22, 24])"
      ]
     },
     "execution_count": 81,
     "metadata": {},
     "output_type": "execute_result"
    }
   ],
   "source": [
    "#a-range\n",
    "a=np.arange(10,25,2)#np.arange([start,end(excluding),steps])\n",
    "a"
   ]
  },
  {
   "cell_type": "code",
   "execution_count": 82,
   "metadata": {},
   "outputs": [
    {
     "data": {
      "text/plain": [
       "array([5.        , 5.11111111, 5.22222222, 5.33333333, 5.44444444,\n",
       "       5.55555556, 5.66666667, 5.77777778, 5.88888889, 6.        ])"
      ]
     },
     "execution_count": 82,
     "metadata": {},
     "output_type": "execute_result"
    }
   ],
   "source": [
    "#linspace\n",
    "a=np.linspace(5,6,10)#start,endpoint,no_of_interval_between_start_and _end\n",
    "a"
   ]
  },
  {
   "cell_type": "code",
   "execution_count": 84,
   "metadata": {},
   "outputs": [
    {
     "data": {
      "text/plain": [
       "array([[[0.92408289, 0.39450427],\n",
       "        [0.3940618 , 0.88053982]],\n",
       "\n",
       "       [[0.99101055, 0.84060865],\n",
       "        [0.06266536, 0.41164558]]])"
      ]
     },
     "execution_count": 84,
     "metadata": {},
     "output_type": "execute_result"
    }
   ],
   "source": [
    "np.random.rand(2)#1-D\n",
    "np.random.rand(2,2)#2-D\n",
    "np.random.rand(2,2,2)#3-D"
   ]
  },
  {
   "cell_type": "code",
   "execution_count": 85,
   "metadata": {},
   "outputs": [
    {
     "data": {
      "text/plain": [
       "array([[[[0.55270905, 0.22488649],\n",
       "         [0.27194231, 0.79903119]],\n",
       "\n",
       "        [[0.10024478, 0.66861917],\n",
       "         [0.8541947 , 0.98290494]]],\n",
       "\n",
       "\n",
       "       [[[0.78744234, 0.09226231],\n",
       "         [0.43996542, 0.97982472]],\n",
       "\n",
       "        [[0.66935284, 0.14303832],\n",
       "         [0.41824822, 0.76411355]]]])"
      ]
     },
     "execution_count": 85,
     "metadata": {},
     "output_type": "execute_result"
    }
   ],
   "source": [
    "np.random.rand(2,2,2,2)#4-D"
   ]
  },
  {
   "cell_type": "code",
   "execution_count": 86,
   "metadata": {},
   "outputs": [
    {
     "data": {
      "text/plain": [
       "array([0.55847971, 0.0836792 , 0.55462936, 0.96440928])"
      ]
     },
     "execution_count": 86,
     "metadata": {},
     "output_type": "execute_result"
    }
   ],
   "source": [
    "np.random.random_sample(4)"
   ]
  },
  {
   "cell_type": "markdown",
   "metadata": {},
   "source": [
    "#### Math"
   ]
  },
  {
   "cell_type": "code",
   "execution_count": 87,
   "metadata": {},
   "outputs": [
    {
     "name": "stdout",
     "output_type": "stream",
     "text": [
      "[1 2 3 4]\n",
      "[1, 2, 3, 4]\n"
     ]
    }
   ],
   "source": [
    "#Numpy vs List\n",
    "a = np.array([1,2,3,4])\n",
    "l=[1,2,3,4]\n",
    "print(a);print(l)"
   ]
  },
  {
   "cell_type": "code",
   "execution_count": 88,
   "metadata": {},
   "outputs": [
    {
     "name": "stdout",
     "output_type": "stream",
     "text": [
      "[3 4 5 6]\n"
     ]
    },
    {
     "ename": "TypeError",
     "evalue": "can only concatenate list (not \"int\") to list",
     "output_type": "error",
     "traceback": [
      "\u001b[1;31m---------------------------------------------------------------------------\u001b[0m",
      "\u001b[1;31mTypeError\u001b[0m                                 Traceback (most recent call last)",
      "\u001b[1;32m<ipython-input-88-e5cdc679dadb>\u001b[0m in \u001b[0;36m<module>\u001b[1;34m\u001b[0m\n\u001b[1;32m----> 1\u001b[1;33m \u001b[0mprint\u001b[0m\u001b[1;33m(\u001b[0m\u001b[0ma\u001b[0m\u001b[1;33m+\u001b[0m\u001b[1;36m2\u001b[0m\u001b[1;33m)\u001b[0m\u001b[1;33m;\u001b[0m\u001b[0mprint\u001b[0m\u001b[1;33m(\u001b[0m\u001b[0ml\u001b[0m\u001b[1;33m+\u001b[0m\u001b[1;36m2\u001b[0m\u001b[1;33m)\u001b[0m\u001b[1;33m\u001b[0m\u001b[1;33m\u001b[0m\u001b[0m\n\u001b[0m",
      "\u001b[1;31mTypeError\u001b[0m: can only concatenate list (not \"int\") to list"
     ]
    }
   ],
   "source": [
    "print(a+2);print(l+2)"
   ]
  },
  {
   "cell_type": "code",
   "execution_count": 89,
   "metadata": {},
   "outputs": [
    {
     "name": "stdout",
     "output_type": "stream",
     "text": [
      "[2 4 6 8]\n",
      "[1, 2, 3, 4, 1, 2, 3, 4]\n"
     ]
    }
   ],
   "source": [
    "print(a*2);print(l*2)"
   ]
  },
  {
   "cell_type": "code",
   "execution_count": 90,
   "metadata": {},
   "outputs": [
    {
     "name": "stdout",
     "output_type": "stream",
     "text": [
      "[0.5 1.  1.5 2. ]\n"
     ]
    },
    {
     "ename": "TypeError",
     "evalue": "unsupported operand type(s) for /: 'list' and 'int'",
     "output_type": "error",
     "traceback": [
      "\u001b[1;31m---------------------------------------------------------------------------\u001b[0m",
      "\u001b[1;31mTypeError\u001b[0m                                 Traceback (most recent call last)",
      "\u001b[1;32m<ipython-input-90-1acea1269a3b>\u001b[0m in \u001b[0;36m<module>\u001b[1;34m\u001b[0m\n\u001b[1;32m----> 1\u001b[1;33m \u001b[0mprint\u001b[0m\u001b[1;33m(\u001b[0m\u001b[0ma\u001b[0m\u001b[1;33m/\u001b[0m\u001b[1;36m2\u001b[0m\u001b[1;33m)\u001b[0m\u001b[1;33m;\u001b[0m\u001b[0mprint\u001b[0m\u001b[1;33m(\u001b[0m\u001b[0ml\u001b[0m\u001b[1;33m/\u001b[0m\u001b[1;36m2\u001b[0m\u001b[1;33m)\u001b[0m\u001b[1;33m\u001b[0m\u001b[1;33m\u001b[0m\u001b[0m\n\u001b[0m",
      "\u001b[1;31mTypeError\u001b[0m: unsupported operand type(s) for /: 'list' and 'int'"
     ]
    }
   ],
   "source": [
    "print(a/2);print(l/2)"
   ]
  },
  {
   "cell_type": "code",
   "execution_count": 91,
   "metadata": {},
   "outputs": [
    {
     "data": {
      "text/plain": [
       "array([2, 2, 4, 4])"
      ]
     },
     "execution_count": 91,
     "metadata": {},
     "output_type": "execute_result"
    }
   ],
   "source": [
    "b=np.array([1,0,1,0])\n",
    "a+b"
   ]
  },
  {
   "cell_type": "code",
   "execution_count": 92,
   "metadata": {},
   "outputs": [
    {
     "data": {
      "text/plain": [
       "array([ 1,  4,  9, 16], dtype=int32)"
      ]
     },
     "execution_count": 92,
     "metadata": {},
     "output_type": "execute_result"
    }
   ],
   "source": [
    "a**2"
   ]
  },
  {
   "cell_type": "code",
   "execution_count": 93,
   "metadata": {},
   "outputs": [
    {
     "data": {
      "text/plain": [
       "array([ 0.54030231, -0.41614684, -0.9899925 , -0.65364362])"
      ]
     },
     "execution_count": 93,
     "metadata": {},
     "output_type": "execute_result"
    }
   ],
   "source": [
    "np.cos(a)"
   ]
  },
  {
   "cell_type": "code",
   "execution_count": 96,
   "metadata": {},
   "outputs": [],
   "source": [
    "b=np.array([1.50,2.256,3.89,-6.12,-7.8])"
   ]
  },
  {
   "cell_type": "markdown",
   "metadata": {},
   "source": [
    "Rounding"
   ]
  },
  {
   "cell_type": "code",
   "execution_count": 98,
   "metadata": {},
   "outputs": [
    {
     "data": {
      "text/plain": [
       "array([ 1.5,  2.3,  3.9, -6.1, -7.8])"
      ]
     },
     "execution_count": 98,
     "metadata": {},
     "output_type": "execute_result"
    }
   ],
   "source": [
    "#Evenly round to the given number of decimals.\n",
    "np.around(b,1)#"
   ]
  },
  {
   "cell_type": "code",
   "execution_count": 99,
   "metadata": {},
   "outputs": [
    {
     "data": {
      "text/plain": [
       "array([ 2.,  2.,  4., -6., -8.])"
      ]
     },
     "execution_count": 99,
     "metadata": {},
     "output_type": "execute_result"
    }
   ],
   "source": [
    "np.round(b)"
   ]
  },
  {
   "cell_type": "code",
   "execution_count": 100,
   "metadata": {},
   "outputs": [
    {
     "data": {
      "text/plain": [
       "array([ 2.,  2.,  4., -6., -8.])"
      ]
     },
     "execution_count": 100,
     "metadata": {},
     "output_type": "execute_result"
    }
   ],
   "source": [
    "np.rint(b)#Round elements of the array to the nearest integer."
   ]
  },
  {
   "cell_type": "code",
   "execution_count": 102,
   "metadata": {},
   "outputs": [
    {
     "data": {
      "text/plain": [
       "array([ 1.,  2.,  3., -7., -8.])"
      ]
     },
     "execution_count": 102,
     "metadata": {},
     "output_type": "execute_result"
    }
   ],
   "source": [
    "np.floor(b)"
   ]
  },
  {
   "cell_type": "code",
   "execution_count": 103,
   "metadata": {},
   "outputs": [
    {
     "data": {
      "text/plain": [
       "array([ 2.,  3.,  4., -6., -7.])"
      ]
     },
     "execution_count": 103,
     "metadata": {},
     "output_type": "execute_result"
    }
   ],
   "source": [
    "np.ceil(b)"
   ]
  },
  {
   "cell_type": "code",
   "execution_count": 104,
   "metadata": {},
   "outputs": [
    {
     "data": {
      "text/plain": [
       "array([ 1.,  2.,  3., -6., -7.])"
      ]
     },
     "execution_count": 104,
     "metadata": {},
     "output_type": "execute_result"
    }
   ],
   "source": [
    "np.trunc(b)#Return the truncated value of the input, element-wise."
   ]
  },
  {
   "cell_type": "code",
   "execution_count": 105,
   "metadata": {},
   "outputs": [
    {
     "data": {
      "text/plain": [
       "array([ 1.,  2.,  3., -6., -7.])"
      ]
     },
     "execution_count": 105,
     "metadata": {},
     "output_type": "execute_result"
    }
   ],
   "source": [
    "np.fix(b)"
   ]
  },
  {
   "cell_type": "markdown",
   "metadata": {},
   "source": [
    "Arithmetic operations"
   ]
  },
  {
   "cell_type": "code",
   "execution_count": 111,
   "metadata": {},
   "outputs": [
    {
     "data": {
      "text/plain": [
       "array([[  11,  202, 8003],\n",
       "       [  14,  205, 8006]])"
      ]
     },
     "execution_count": 111,
     "metadata": {},
     "output_type": "execute_result"
    }
   ],
   "source": [
    "a=np.array([[1,2,3],[4,5,6]])\n",
    "b=np.array([10,200,8000])\n",
    "a+b"
   ]
  },
  {
   "cell_type": "code",
   "execution_count": 112,
   "metadata": {},
   "outputs": [
    {
     "data": {
      "text/plain": [
       "21"
      ]
     },
     "execution_count": 112,
     "metadata": {},
     "output_type": "execute_result"
    }
   ],
   "source": [
    "a.sum()"
   ]
  },
  {
   "cell_type": "code",
   "execution_count": 113,
   "metadata": {},
   "outputs": [
    {
     "data": {
      "text/plain": [
       "8210"
      ]
     },
     "execution_count": 113,
     "metadata": {},
     "output_type": "execute_result"
    }
   ],
   "source": [
    "np.sum(b)"
   ]
  },
  {
   "cell_type": "code",
   "execution_count": 114,
   "metadata": {},
   "outputs": [
    {
     "data": {
      "text/plain": [
       "array([[  11,  202, 8003],\n",
       "       [  14,  205, 8006]])"
      ]
     },
     "execution_count": 114,
     "metadata": {},
     "output_type": "execute_result"
    }
   ],
   "source": [
    "np.sum((a,b))"
   ]
  },
  {
   "cell_type": "code",
   "execution_count": 122,
   "metadata": {},
   "outputs": [
    {
     "data": {
      "text/plain": [
       "array([[ 5,  7,  9],\n",
       "       [17, 12, 11]])"
      ]
     },
     "execution_count": 122,
     "metadata": {},
     "output_type": "execute_result"
    }
   ],
   "source": [
    "b=np.random.randint(3,10,size=(2,3));b\n",
    "np.sum((a,b),axis=1)"
   ]
  },
  {
   "cell_type": "code",
   "execution_count": 123,
   "metadata": {},
   "outputs": [
    {
     "data": {
      "text/plain": [
       "array([[10, 10, 10],\n",
       "       [12,  9, 10]])"
      ]
     },
     "execution_count": 123,
     "metadata": {},
     "output_type": "execute_result"
    }
   ],
   "source": [
    "np.sum((a,b),axis=0)"
   ]
  },
  {
   "cell_type": "code",
   "execution_count": 124,
   "metadata": {},
   "outputs": [
    {
     "data": {
      "text/plain": [
       "array([[9, 8, 7],\n",
       "       [8, 4, 4]])"
      ]
     },
     "execution_count": 124,
     "metadata": {},
     "output_type": "execute_result"
    }
   ],
   "source": [
    "b"
   ]
  },
  {
   "cell_type": "code",
   "execution_count": 125,
   "metadata": {},
   "outputs": [
    {
     "data": {
      "text/plain": [
       "array([[1, 2, 3],\n",
       "       [4, 5, 6]])"
      ]
     },
     "execution_count": 125,
     "metadata": {},
     "output_type": "execute_result"
    }
   ],
   "source": [
    "a"
   ]
  },
  {
   "cell_type": "code",
   "execution_count": 130,
   "metadata": {},
   "outputs": [
    {
     "data": {
      "text/plain": [
       "array([[ 4, 10, 18],\n",
       "       [72, 32, 28]])"
      ]
     },
     "execution_count": 130,
     "metadata": {},
     "output_type": "execute_result"
    }
   ],
   "source": [
    "np.prod((a,b),axis=1)"
   ]
  },
  {
   "cell_type": "code",
   "execution_count": 181,
   "metadata": {},
   "outputs": [
    {
     "name": "stdout",
     "output_type": "stream",
     "text": [
      "[[ 2  5]\n",
      " [13 10]]\n",
      "[[-1.         -0.66666667]\n",
      " [-0.3        -0.66666667]]\n",
      "[[ -1  -6]\n",
      " [-30 -24]]\n"
     ]
    }
   ],
   "source": [
    "a=np.array([[1,2],[3,4]]); b=np.array([[-1,-3],[-10,-6]])\n",
    "print(np.subtract(a,b))\n",
    "print(np.divide(a,b))\n",
    "print(np.multiply(a,b))"
   ]
  },
  {
   "cell_type": "code",
   "execution_count": 131,
   "metadata": {},
   "outputs": [
    {
     "data": {
      "text/plain": [
       "array([ 1,  3,  6, 10, 15, 21], dtype=int32)"
      ]
     },
     "execution_count": 131,
     "metadata": {},
     "output_type": "execute_result"
    }
   ],
   "source": [
    "np.cumsum(a)"
   ]
  },
  {
   "cell_type": "code",
   "execution_count": 134,
   "metadata": {},
   "outputs": [
    {
     "data": {
      "text/plain": [
       "array([[[ 1,  2,  3],\n",
       "        [ 4,  5,  6]],\n",
       "\n",
       "       [[10, 10, 10],\n",
       "        [12,  9, 10]]], dtype=int32)"
      ]
     },
     "execution_count": 134,
     "metadata": {},
     "output_type": "execute_result"
    }
   ],
   "source": [
    "np.cumsum((a,b),axis=0)"
   ]
  },
  {
   "cell_type": "code",
   "execution_count": 138,
   "metadata": {},
   "outputs": [
    {
     "data": {
      "text/plain": [
       "array([[1, 1],\n",
       "       [1, 1]])"
      ]
     },
     "execution_count": 138,
     "metadata": {},
     "output_type": "execute_result"
    }
   ],
   "source": [
    "np.diff((a))"
   ]
  },
  {
   "cell_type": "code",
   "execution_count": 139,
   "metadata": {},
   "outputs": [
    {
     "data": {
      "text/plain": [
       "array([[  2.71828183,   7.3890561 ,  20.08553692],\n",
       "       [ 54.59815003, 148.4131591 , 403.42879349]])"
      ]
     },
     "execution_count": 139,
     "metadata": {},
     "output_type": "execute_result"
    }
   ],
   "source": [
    "np.exp(a)#Calculate the exponential of all elements in the input array."
   ]
  },
  {
   "cell_type": "code",
   "execution_count": 142,
   "metadata": {},
   "outputs": [
    {
     "data": {
      "text/plain": [
       "array([[  1.71828183,   6.3890561 ,  19.08553692],\n",
       "       [ 53.59815003, 147.4131591 , 402.42879349]])"
      ]
     },
     "execution_count": 142,
     "metadata": {},
     "output_type": "execute_result"
    }
   ],
   "source": [
    "np.expm1(a)#Calculate exp(x) - 1 for all elements in the array."
   ]
  },
  {
   "cell_type": "code",
   "execution_count": 143,
   "metadata": {},
   "outputs": [
    {
     "data": {
      "text/plain": [
       "array([[ 2.,  4.,  8.],\n",
       "       [16., 32., 64.]])"
      ]
     },
     "execution_count": 143,
     "metadata": {},
     "output_type": "execute_result"
    }
   ],
   "source": [
    "np.exp2(a)#Calculate 2**p for all p in the input array."
   ]
  },
  {
   "cell_type": "code",
   "execution_count": 144,
   "metadata": {},
   "outputs": [
    {
     "data": {
      "text/plain": [
       "array([[0.        , 0.69314718, 1.09861229],\n",
       "       [1.38629436, 1.60943791, 1.79175947]])"
      ]
     },
     "execution_count": 144,
     "metadata": {},
     "output_type": "execute_result"
    }
   ],
   "source": [
    "np.log(a)#Natural logarithm, element-wise."
   ]
  },
  {
   "cell_type": "code",
   "execution_count": 145,
   "metadata": {},
   "outputs": [
    {
     "data": {
      "text/plain": [
       "array([[0.        , 0.30103   , 0.47712125],\n",
       "       [0.60205999, 0.69897   , 0.77815125]])"
      ]
     },
     "execution_count": 145,
     "metadata": {},
     "output_type": "execute_result"
    }
   ],
   "source": [
    "np.log10(a)#Return the base 10 logarithm of the input array, element-wise."
   ]
  },
  {
   "cell_type": "code",
   "execution_count": 146,
   "metadata": {},
   "outputs": [
    {
     "data": {
      "text/plain": [
       "array([[0.        , 1.        , 1.5849625 ],\n",
       "       [2.        , 2.32192809, 2.5849625 ]])"
      ]
     },
     "execution_count": 146,
     "metadata": {},
     "output_type": "execute_result"
    }
   ],
   "source": [
    "np.log2(a)#Base-2 logarithm of x."
   ]
  },
  {
   "cell_type": "code",
   "execution_count": 147,
   "metadata": {},
   "outputs": [
    {
     "data": {
      "text/plain": [
       "array([[0.69314718, 1.09861229, 1.38629436],\n",
       "       [1.60943791, 1.79175947, 1.94591015]])"
      ]
     },
     "execution_count": 147,
     "metadata": {},
     "output_type": "execute_result"
    }
   ],
   "source": [
    "np.log1p(a)#Return the natural logarithm of one plus the input array, element-wise."
   ]
  },
  {
   "cell_type": "code",
   "execution_count": 155,
   "metadata": {},
   "outputs": [
    {
     "data": {
      "text/plain": [
       "36"
      ]
     },
     "execution_count": 155,
     "metadata": {},
     "output_type": "execute_result"
    }
   ],
   "source": [
    "np.lcm(12,18)"
   ]
  },
  {
   "cell_type": "code",
   "execution_count": 156,
   "metadata": {},
   "outputs": [
    {
     "data": {
      "text/plain": [
       "6"
      ]
     },
     "execution_count": 156,
     "metadata": {},
     "output_type": "execute_result"
    }
   ],
   "source": [
    "np.gcd(12,18)"
   ]
  },
  {
   "cell_type": "code",
   "execution_count": 157,
   "metadata": {},
   "outputs": [
    {
     "data": {
      "text/plain": [
       "1"
      ]
     },
     "execution_count": 157,
     "metadata": {},
     "output_type": "execute_result"
    }
   ],
   "source": [
    "np.min(a)"
   ]
  },
  {
   "cell_type": "code",
   "execution_count": 158,
   "metadata": {},
   "outputs": [
    {
     "data": {
      "text/plain": [
       "1"
      ]
     },
     "execution_count": 158,
     "metadata": {},
     "output_type": "execute_result"
    }
   ],
   "source": [
    "np.min((a,b))"
   ]
  },
  {
   "cell_type": "code",
   "execution_count": 159,
   "metadata": {},
   "outputs": [
    {
     "data": {
      "text/plain": [
       "array([[1, 2, 3],\n",
       "       [8, 4, 4]])"
      ]
     },
     "execution_count": 159,
     "metadata": {},
     "output_type": "execute_result"
    }
   ],
   "source": [
    "np.min((a,b),axis=1)"
   ]
  },
  {
   "cell_type": "code",
   "execution_count": 163,
   "metadata": {},
   "outputs": [
    {
     "data": {
      "text/plain": [
       "5.083333333333333"
      ]
     },
     "execution_count": 163,
     "metadata": {},
     "output_type": "execute_result"
    }
   ],
   "source": [
    "np.mean((a,b))"
   ]
  },
  {
   "cell_type": "code",
   "execution_count": 164,
   "metadata": {},
   "outputs": [
    {
     "data": {
      "text/plain": [
       "array([[2.5, 3.5, 4.5],\n",
       "       [8.5, 6. , 5.5]])"
      ]
     },
     "execution_count": 164,
     "metadata": {},
     "output_type": "execute_result"
    }
   ],
   "source": [
    "np.mean((a,b),axis=1)"
   ]
  },
  {
   "cell_type": "code",
   "execution_count": 166,
   "metadata": {},
   "outputs": [
    {
     "data": {
      "text/plain": [
       "4.5"
      ]
     },
     "execution_count": 166,
     "metadata": {},
     "output_type": "execute_result"
    }
   ],
   "source": [
    "np.median((a,b))"
   ]
  },
  {
   "cell_type": "code",
   "execution_count": 167,
   "metadata": {},
   "outputs": [
    {
     "data": {
      "text/plain": [
       "array([[ 1.       ,  1.       , -1.       , -0.8660254],\n",
       "       [ 1.       ,  1.       , -1.       , -0.8660254],\n",
       "       [-1.       , -1.       ,  1.       ,  0.8660254],\n",
       "       [-0.8660254, -0.8660254,  0.8660254,  1.       ]])"
      ]
     },
     "execution_count": 167,
     "metadata": {},
     "output_type": "execute_result"
    }
   ],
   "source": [
    "np.corrcoef(a,b)"
   ]
  },
  {
   "cell_type": "code",
   "execution_count": 170,
   "metadata": {},
   "outputs": [
    {
     "name": "stdout",
     "output_type": "stream",
     "text": [
      "[[0.45503307 0.64228517 0.84340645]\n",
      " [0.93484338 0.89452113 0.67773348]\n",
      " [0.2309581  0.97492209 0.65510911]]\n"
     ]
    },
    {
     "data": {
      "text/plain": [
       "0.26761564998859505"
      ]
     },
     "execution_count": 170,
     "metadata": {},
     "output_type": "execute_result"
    }
   ],
   "source": [
    "# Find the determinant\n",
    "c=np.random.rand(3,3)\n",
    "print(c)\n",
    "np.linalg.det(c)"
   ]
  },
  {
   "cell_type": "markdown",
   "metadata": {},
   "source": [
    "#### Reorganizing Arrays"
   ]
  },
  {
   "cell_type": "code",
   "execution_count": 175,
   "metadata": {},
   "outputs": [
    {
     "name": "stdout",
     "output_type": "stream",
     "text": [
      "[[1 2 3]\n",
      " [4 5 6]]\n"
     ]
    },
    {
     "data": {
      "text/plain": [
       "array([[1, 2, 3, 4, 5, 6]])"
      ]
     },
     "execution_count": 175,
     "metadata": {},
     "output_type": "execute_result"
    }
   ],
   "source": [
    "print(a)\n",
    "a=a.reshape(1,6);a"
   ]
  },
  {
   "cell_type": "code",
   "execution_count": 176,
   "metadata": {},
   "outputs": [
    {
     "data": {
      "text/plain": [
       "array([[1, 2],\n",
       "       [3, 4],\n",
       "       [5, 6]])"
      ]
     },
     "execution_count": 176,
     "metadata": {},
     "output_type": "execute_result"
    }
   ],
   "source": [
    "a.reshape(3,2)"
   ]
  },
  {
   "cell_type": "code",
   "execution_count": 177,
   "metadata": {},
   "outputs": [
    {
     "data": {
      "text/plain": [
       "array([[1, 2, 3, 4],\n",
       "       [5, 6, 7, 8],\n",
       "       [1, 2, 3, 4],\n",
       "       [5, 6, 7, 8]])"
      ]
     },
     "execution_count": 177,
     "metadata": {},
     "output_type": "execute_result"
    }
   ],
   "source": [
    "# Vertically stacking vectors\n",
    "v1 = np.array([1,2,3,4])\n",
    "v2 = np.array([5,6,7,8])\n",
    "\n",
    "np.vstack([v1,v2,v1,v2])"
   ]
  },
  {
   "cell_type": "code",
   "execution_count": 187,
   "metadata": {},
   "outputs": [
    {
     "data": {
      "text/plain": [
       "array([[1, 5],\n",
       "       [2, 6],\n",
       "       [3, 7],\n",
       "       [4, 8]])"
      ]
     },
     "execution_count": 187,
     "metadata": {},
     "output_type": "execute_result"
    }
   ],
   "source": [
    "np.column_stack((v1,v2))"
   ]
  },
  {
   "cell_type": "code",
   "execution_count": 179,
   "metadata": {},
   "outputs": [
    {
     "data": {
      "text/plain": [
       "array([1, 2, 3, 4, 5, 6, 7, 8])"
      ]
     },
     "execution_count": 179,
     "metadata": {},
     "output_type": "execute_result"
    }
   ],
   "source": [
    "# Horizontal  stack\n",
    "np.hstack((v1,v2))"
   ]
  },
  {
   "cell_type": "code",
   "execution_count": 182,
   "metadata": {},
   "outputs": [],
   "source": [
    "a.resize(2,3)"
   ]
  },
  {
   "cell_type": "code",
   "execution_count": 183,
   "metadata": {},
   "outputs": [
    {
     "data": {
      "text/plain": [
       "array([[1, 2, 3],\n",
       "       [4, 0, 0]])"
      ]
     },
     "execution_count": 183,
     "metadata": {},
     "output_type": "execute_result"
    }
   ],
   "source": [
    "a"
   ]
  },
  {
   "cell_type": "code",
   "execution_count": 184,
   "metadata": {},
   "outputs": [
    {
     "data": {
      "text/plain": [
       "array([[1, 2],\n",
       "       [3, 4],\n",
       "       [0, 0]])"
      ]
     },
     "execution_count": 184,
     "metadata": {},
     "output_type": "execute_result"
    }
   ],
   "source": [
    "a.resize(3,2);a"
   ]
  },
  {
   "cell_type": "code",
   "execution_count": 191,
   "metadata": {},
   "outputs": [
    {
     "data": {
      "text/plain": [
       "array([[False, False],\n",
       "       [False, False]])"
      ]
     },
     "execution_count": 191,
     "metadata": {},
     "output_type": "execute_result"
    }
   ],
   "source": [
    "#Equal comparison\n",
    "a=np.ones((2,2))\n",
    "np.equal(a,b)"
   ]
  },
  {
   "cell_type": "code",
   "execution_count": 194,
   "metadata": {},
   "outputs": [
    {
     "data": {
      "text/plain": [
       "False"
      ]
     },
     "execution_count": 194,
     "metadata": {},
     "output_type": "execute_result"
    }
   ],
   "source": [
    "np.array_equal(a,b)"
   ]
  },
  {
   "cell_type": "code",
   "execution_count": 195,
   "metadata": {},
   "outputs": [
    {
     "data": {
      "text/plain": [
       "array([[11, 13, 15],\n",
       "       [12, 14, 16]])"
      ]
     },
     "execution_count": 195,
     "metadata": {},
     "output_type": "execute_result"
    }
   ],
   "source": [
    "#Numpy BroadCasting\n",
    "a=np.array([[1,3,5],[2,4,6]])\n",
    "b=np.array([10,10,10])\n",
    "np.sum((a,b))"
   ]
  },
  {
   "cell_type": "code",
   "execution_count": 197,
   "metadata": {},
   "outputs": [
    {
     "data": {
      "text/plain": [
       "array([[ 5,  5,  2, 10, 10, 10],\n",
       "       [ 7,  1,  7, 20, 20, 20],\n",
       "       [ 4,  7,  2, 30, 30, 30]])"
      ]
     },
     "execution_count": 197,
     "metadata": {},
     "output_type": "execute_result"
    }
   ],
   "source": [
    "#array manipulation\n",
    "a=np.random.randint(1,10,size=(3,3))\n",
    "b=np.array([[10,10,10],[20,20,20],[30,30,30]])\n",
    "np.concatenate((a,b),axis=1)"
   ]
  },
  {
   "cell_type": "code",
   "execution_count": 198,
   "metadata": {},
   "outputs": [
    {
     "data": {
      "text/plain": [
       "array([[ 5,  5,  2],\n",
       "       [ 7,  1,  7],\n",
       "       [ 4,  7,  2],\n",
       "       [10, 10, 10],\n",
       "       [20, 20, 20],\n",
       "       [30, 30, 30]])"
      ]
     },
     "execution_count": 198,
     "metadata": {},
     "output_type": "execute_result"
    }
   ],
   "source": [
    "np.concatenate((a,b),axis=0)"
   ]
  },
  {
   "cell_type": "code",
   "execution_count": 200,
   "metadata": {},
   "outputs": [
    {
     "data": {
      "text/plain": [
       "array([1, 2, 4, 5, 7])"
      ]
     },
     "execution_count": 200,
     "metadata": {},
     "output_type": "execute_result"
    }
   ],
   "source": [
    "np.unique(a)"
   ]
  },
  {
   "cell_type": "code",
   "execution_count": 201,
   "metadata": {},
   "outputs": [
    {
     "data": {
      "text/plain": [
       "array([5, 5, 2, 7, 1, 7, 4, 7, 2])"
      ]
     },
     "execution_count": 201,
     "metadata": {},
     "output_type": "execute_result"
    }
   ],
   "source": [
    "a.ravell()#To make nD array into 1 D)"
   ]
  },
  {
   "cell_type": "code",
   "execution_count": null,
   "metadata": {},
   "outputs": [],
   "source": []
  }
 ],
 "metadata": {
  "kernelspec": {
   "display_name": "Python 3",
   "language": "python",
   "name": "python3"
  },
  "language_info": {
   "codemirror_mode": {
    "name": "ipython",
    "version": 3
   },
   "file_extension": ".py",
   "mimetype": "text/x-python",
   "name": "python",
   "nbconvert_exporter": "python",
   "pygments_lexer": "ipython3",
   "version": "3.7.3"
  }
 },
 "nbformat": 4,
 "nbformat_minor": 2
}
